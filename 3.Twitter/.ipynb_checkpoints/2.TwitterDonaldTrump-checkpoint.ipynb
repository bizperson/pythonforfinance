{
 "cells": [
  {
   "cell_type": "code",
   "execution_count": 2,
   "metadata": {},
   "outputs": [
    {
     "name": "stdout",
     "output_type": "stream",
     "text": [
      "my API Connected !\n"
     ]
    }
   ],
   "source": [
    "%run connect_twitter.ipynb"
   ]
  },
  {
   "cell_type": "code",
   "execution_count": 3,
   "metadata": {},
   "outputs": [],
   "source": [
    "import pandas as pd\n",
    "import numpy as np\n",
    "import seaborn as sns\n",
    "import matplotlib.pyplot as plt\n",
    "%matplotlib inline"
   ]
  },
  {
   "cell_type": "markdown",
   "metadata": {},
   "source": [
    "<h3>Gathering Data</h3><br>\n",
    "Find 200 most recent tweets fom user @realDonaldTrump:"
   ]
  },
  {
   "cell_type": "code",
   "execution_count": 4,
   "metadata": {},
   "outputs": [],
   "source": [
    "name = '@realDonaldTrump'\n",
    "nbr_tweets = 200\n",
    "results = myapi.user_timeline(id=name, count=nbr_tweets)"
   ]
  },
  {
   "cell_type": "markdown",
   "metadata": {},
   "source": [
    "Assemble the text into a dataframe"
   ]
  },
  {
   "cell_type": "code",
   "execution_count": 6,
   "metadata": {},
   "outputs": [],
   "source": [
    "data = pd.DataFrame(data=[tweet.text for tweet in results], columns=['Tweets'])"
   ]
  },
  {
   "cell_type": "code",
   "execution_count": 7,
   "metadata": {},
   "outputs": [
    {
     "data": {
      "text/html": [
       "<div>\n",
       "<style scoped>\n",
       "    .dataframe tbody tr th:only-of-type {\n",
       "        vertical-align: middle;\n",
       "    }\n",
       "\n",
       "    .dataframe tbody tr th {\n",
       "        vertical-align: top;\n",
       "    }\n",
       "\n",
       "    .dataframe thead th {\n",
       "        text-align: right;\n",
       "    }\n",
       "</style>\n",
       "<table border=\"1\" class=\"dataframe\">\n",
       "  <thead>\n",
       "    <tr style=\"text-align: right;\">\n",
       "      <th></th>\n",
       "      <th>Tweets</th>\n",
       "    </tr>\n",
       "  </thead>\n",
       "  <tbody>\n",
       "    <tr>\n",
       "      <th>0</th>\n",
       "      <td>Today, it was my great honor to welcome the 20...</td>\n",
       "    </tr>\n",
       "    <tr>\n",
       "      <th>1</th>\n",
       "      <td>Very thankful for President Xi of China’s kind...</td>\n",
       "    </tr>\n",
       "    <tr>\n",
       "      <th>2</th>\n",
       "      <td>Last night, it was my great honor to host Amer...</td>\n",
       "    </tr>\n",
       "    <tr>\n",
       "      <th>3</th>\n",
       "      <td>A TOTAL WITCH HUNT!!!</td>\n",
       "    </tr>\n",
       "    <tr>\n",
       "      <th>4</th>\n",
       "      <td>Attorney–client privilege is dead!</td>\n",
       "    </tr>\n",
       "  </tbody>\n",
       "</table>\n",
       "</div>"
      ],
      "text/plain": [
       "                                              Tweets\n",
       "0  Today, it was my great honor to welcome the 20...\n",
       "1  Very thankful for President Xi of China’s kind...\n",
       "2  Last night, it was my great honor to host Amer...\n",
       "3                              A TOTAL WITCH HUNT!!!\n",
       "4                 Attorney–client privilege is dead!"
      ]
     },
     "execution_count": 7,
     "metadata": {},
     "output_type": "execute_result"
    }
   ],
   "source": [
    "data.head()"
   ]
  },
  {
   "cell_type": "markdown",
   "metadata": {},
   "source": [
    "The interesting part from here is the quantity of metadata contained in a single tweet. If we want to obtain data such as the creation date, or the source of creation, we can access the info with this attributes. An example is the following:"
   ]
  },
  {
   "cell_type": "code",
   "execution_count": 6,
   "metadata": {},
   "outputs": [
    {
     "name": "stdout",
     "output_type": "stream",
     "text": [
      "['__class__', '__delattr__', '__dict__', '__dir__', '__doc__', '__eq__', '__format__', '__ge__', '__getattribute__', '__getstate__', '__gt__', '__hash__', '__init__', '__le__', '__lt__', '__module__', '__ne__', '__new__', '__reduce__', '__reduce_ex__', '__repr__', '__setattr__', '__sizeof__', '__str__', '__subclasshook__', '__weakref__', '_api', '_json', 'author', 'contributors', 'coordinates', 'created_at', 'destroy', 'entities', 'extended_entities', 'favorite', 'favorite_count', 'favorited', 'geo', 'id', 'id_str', 'in_reply_to_screen_name', 'in_reply_to_status_id', 'in_reply_to_status_id_str', 'in_reply_to_user_id', 'in_reply_to_user_id_str', 'is_quote_status', 'lang', 'parse', 'parse_list', 'place', 'possibly_sensitive', 'retweet', 'retweet_count', 'retweeted', 'retweets', 'source', 'source_url', 'text', 'truncated', 'user']\n"
     ]
    }
   ],
   "source": [
    "print(dir(results[0]))"
   ]
  },
  {
   "cell_type": "markdown",
   "metadata": {},
   "source": [
    "Getting the meta data from the first tweet in the lsit"
   ]
  },
  {
   "cell_type": "code",
   "execution_count": 12,
   "metadata": {},
   "outputs": [
    {
     "name": "stdout",
     "output_type": "stream",
     "text": [
      "id: 983824424532144128\n",
      "created at: 2018-04-10 21:49:56\n",
      "source: Twitter for iPhone\n",
      "likes: 19129\n",
      "retweets: 4193\n",
      "geo-location: None\n",
      "message: Today, it was my great honor to welcome the 2017 NCAA Football National Champion, Alabama Crimson Tide - to the Whi… https://t.co/7XFdpF69XP\n"
     ]
    }
   ],
   "source": [
    "print('id:',results[0].id)\n",
    "print('created at:',results[0].created_at)\n",
    "print('source:',results[0].source)\n",
    "print('likes:',results[0].favorite_count)\n",
    "print('retweets:',results[0].retweet_count)\n",
    "print('geo-location:',results[0].geo)\n",
    "print('message:',results[0].text)"
   ]
  },
  {
   "cell_type": "markdown",
   "metadata": {},
   "source": [
    "<h4>Adding more data to the dataframe </h4>"
   ]
  },
  {
   "cell_type": "code",
   "execution_count": 13,
   "metadata": {},
   "outputs": [],
   "source": [
    "data['len']  = np.array([len(tweet.text) for tweet in results])\n",
    "data['ID']   = np.array([tweet.id for tweet in results])\n",
    "data['Date'] = np.array([tweet.created_at for tweet in results])\n",
    "data['Source'] = np.array([tweet.source for tweet in results])\n",
    "data['Likes']  = np.array([tweet.favorite_count for tweet in results])\n",
    "data['RTs']    = np.array([tweet.retweet_count for tweet in results])"
   ]
  },
  {
   "cell_type": "code",
   "execution_count": 14,
   "metadata": {},
   "outputs": [
    {
     "data": {
      "text/html": [
       "<div>\n",
       "<style scoped>\n",
       "    .dataframe tbody tr th:only-of-type {\n",
       "        vertical-align: middle;\n",
       "    }\n",
       "\n",
       "    .dataframe tbody tr th {\n",
       "        vertical-align: top;\n",
       "    }\n",
       "\n",
       "    .dataframe thead th {\n",
       "        text-align: right;\n",
       "    }\n",
       "</style>\n",
       "<table border=\"1\" class=\"dataframe\">\n",
       "  <thead>\n",
       "    <tr style=\"text-align: right;\">\n",
       "      <th></th>\n",
       "      <th>Tweets</th>\n",
       "      <th>len</th>\n",
       "      <th>ID</th>\n",
       "      <th>Date</th>\n",
       "      <th>Source</th>\n",
       "      <th>Likes</th>\n",
       "      <th>RTs</th>\n",
       "    </tr>\n",
       "  </thead>\n",
       "  <tbody>\n",
       "    <tr>\n",
       "      <th>0</th>\n",
       "      <td>Today, it was my great honor to welcome the 20...</td>\n",
       "      <td>140</td>\n",
       "      <td>983824424532144128</td>\n",
       "      <td>2018-04-10 21:49:56</td>\n",
       "      <td>Twitter for iPhone</td>\n",
       "      <td>19129</td>\n",
       "      <td>4193</td>\n",
       "    </tr>\n",
       "    <tr>\n",
       "      <th>1</th>\n",
       "      <td>Very thankful for President Xi of China’s kind...</td>\n",
       "      <td>140</td>\n",
       "      <td>983774270886236161</td>\n",
       "      <td>2018-04-10 18:30:38</td>\n",
       "      <td>Twitter for iPhone</td>\n",
       "      <td>51771</td>\n",
       "      <td>11216</td>\n",
       "    </tr>\n",
       "    <tr>\n",
       "      <th>2</th>\n",
       "      <td>Last night, it was my great honor to host Amer...</td>\n",
       "      <td>140</td>\n",
       "      <td>983698762760704000</td>\n",
       "      <td>2018-04-10 13:30:35</td>\n",
       "      <td>Twitter for iPhone</td>\n",
       "      <td>58775</td>\n",
       "      <td>13510</td>\n",
       "    </tr>\n",
       "    <tr>\n",
       "      <th>3</th>\n",
       "      <td>A TOTAL WITCH HUNT!!!</td>\n",
       "      <td>21</td>\n",
       "      <td>983662953894436864</td>\n",
       "      <td>2018-04-10 11:08:18</td>\n",
       "      <td>Twitter for iPhone</td>\n",
       "      <td>97808</td>\n",
       "      <td>25621</td>\n",
       "    </tr>\n",
       "    <tr>\n",
       "      <th>4</th>\n",
       "      <td>Attorney–client privilege is dead!</td>\n",
       "      <td>34</td>\n",
       "      <td>983662868540346371</td>\n",
       "      <td>2018-04-10 11:07:58</td>\n",
       "      <td>Twitter for iPhone</td>\n",
       "      <td>85737</td>\n",
       "      <td>22983</td>\n",
       "    </tr>\n",
       "  </tbody>\n",
       "</table>\n",
       "</div>"
      ],
      "text/plain": [
       "                                              Tweets  len                  ID  \\\n",
       "0  Today, it was my great honor to welcome the 20...  140  983824424532144128   \n",
       "1  Very thankful for President Xi of China’s kind...  140  983774270886236161   \n",
       "2  Last night, it was my great honor to host Amer...  140  983698762760704000   \n",
       "3                              A TOTAL WITCH HUNT!!!   21  983662953894436864   \n",
       "4                 Attorney–client privilege is dead!   34  983662868540346371   \n",
       "\n",
       "                 Date              Source  Likes    RTs  \n",
       "0 2018-04-10 21:49:56  Twitter for iPhone  19129   4193  \n",
       "1 2018-04-10 18:30:38  Twitter for iPhone  51771  11216  \n",
       "2 2018-04-10 13:30:35  Twitter for iPhone  58775  13510  \n",
       "3 2018-04-10 11:08:18  Twitter for iPhone  97808  25621  \n",
       "4 2018-04-10 11:07:58  Twitter for iPhone  85737  22983  "
      ]
     },
     "execution_count": 14,
     "metadata": {},
     "output_type": "execute_result"
    }
   ],
   "source": [
    "data.head()"
   ]
  },
  {
   "cell_type": "markdown",
   "metadata": {},
   "source": [
    "<h3>Interpretation of the data</h3>"
   ]
  },
  {
   "cell_type": "code",
   "execution_count": 17,
   "metadata": {},
   "outputs": [
    {
     "name": "stdout",
     "output_type": "stream",
     "text": [
      "The tweet with most likes is: \n",
      "Crazy Joe Biden is trying to act like a tough guy. Actually, he is weak, both mentally and physically, and yet he t… https://t.co/4e33ZxnAw7\n",
      "Number of likes: 258118\n",
      "140 characters.\n",
      "Tweeted at 2018-03-22 10:19:57\n"
     ]
    }
   ],
   "source": [
    "likes_max = np.max(data['Likes'])\n",
    "retweet_max  = np.max(data['RTs'])\n",
    "\n",
    "likes = data[data.Likes == likes_max].index[0]\n",
    "retweets  = data[data.RTs == retweet_max].index[0]\n",
    "\n",
    "# Max FAVs:\n",
    "print(\"The tweet with most likes is: \\n{}\".format(data['Tweets'][likes]))\n",
    "print(\"Number of likes: {}\".format(likes_max))\n",
    "print(\"{} characters.\".format(data['len'][likes]))\n",
    "print(\"Tweeted at {s}\".format(s=data['Date'][likes]))"
   ]
  },
  {
   "cell_type": "markdown",
   "metadata": {},
   "source": [
    "<h3>Making Graphs</h3>"
   ]
  },
  {
   "cell_type": "code",
   "execution_count": 18,
   "metadata": {},
   "outputs": [],
   "source": [
    "t_likes = pd.Series(data=data['Likes'].values, index=data['Date'])\n",
    "t_retweets = pd.Series(data=data['RTs'].values, index=data['Date'])"
   ]
  },
  {
   "cell_type": "code",
   "execution_count": 19,
   "metadata": {},
   "outputs": [
    {
     "data": {
      "text/plain": [
       "<matplotlib.axes._subplots.AxesSubplot at 0x1175774a8>"
      ]
     },
     "execution_count": 19,
     "metadata": {},
     "output_type": "execute_result"
    },
    {
     "data": {
      "image/png": "[encoded data removed]",
      "text/plain": [
       "<matplotlib.figure.Figure at 0x117574ef0>"
      ]
     },
     "metadata": {},
     "output_type": "display_data"
    }
   ],
   "source": [
    "t_likes.plot(title='Donald Trump likes',figsize=(12,6),legend=True,label='Likes');\n",
    "t_retweets.plot(legend=True,label='Retweets')"
   ]
  },
  {
   "cell_type": "markdown",
   "metadata": {},
   "source": [
    "<h3>Sentiment Analysis of the Tweets</h3>"
   ]
  },
  {
   "cell_type": "code",
   "execution_count": 22,
   "metadata": {},
   "outputs": [],
   "source": [
    "from textblob import TextBlob\n",
    "import re"
   ]
  },
  {
   "cell_type": "markdown",
   "metadata": {},
   "source": [
    "Define 2 different utility functions"
   ]
  },
  {
   "cell_type": "code",
   "execution_count": 23,
   "metadata": {},
   "outputs": [],
   "source": [
    "def clean_tweet(tweet):\n",
    "    '''\n",
    "    Utility function to clean the text in a tweet by removing \n",
    "    links and special characters using regex.\n",
    "    '''\n",
    "    return ' '.join(re.sub(\"(@[A-Za-z0-9]+)|([^0-9A-Za-z \\t])|(\\w+:\\/\\/\\S+)\", \" \", tweet).split())\n",
    "\n",
    "def analyze_sentiment(tweet):\n",
    "    '''\n",
    "    Utility function to classify the polarity of a tweet\n",
    "    using textblob.\n",
    "    '''\n",
    "    analysis = TextBlob(clean_tweet(tweet))\n",
    "    if analysis.sentiment.polarity > 0:\n",
    "        return 1\n",
    "    elif analysis.sentiment.polarity == 0:\n",
    "        return 0\n",
    "    else:\n",
    "        return -1"
   ]
  },
  {
   "cell_type": "code",
   "execution_count": 24,
   "metadata": {},
   "outputs": [],
   "source": [
    "data['SA'] = np.array([ analyze_sentiment(tweet) for tweet in data['Tweets'] ])"
   ]
  },
  {
   "cell_type": "code",
   "execution_count": 25,
   "metadata": {},
   "outputs": [
    {
     "data": {
      "text/html": [
       "<div>\n",
       "<style scoped>\n",
       "    .dataframe tbody tr th:only-of-type {\n",
       "        vertical-align: middle;\n",
       "    }\n",
       "\n",
       "    .dataframe tbody tr th {\n",
       "        vertical-align: top;\n",
       "    }\n",
       "\n",
       "    .dataframe thead th {\n",
       "        text-align: right;\n",
       "    }\n",
       "</style>\n",
       "<table border=\"1\" class=\"dataframe\">\n",
       "  <thead>\n",
       "    <tr style=\"text-align: right;\">\n",
       "      <th></th>\n",
       "      <th>Tweets</th>\n",
       "      <th>len</th>\n",
       "      <th>ID</th>\n",
       "      <th>Date</th>\n",
       "      <th>Source</th>\n",
       "      <th>Likes</th>\n",
       "      <th>RTs</th>\n",
       "      <th>SA</th>\n",
       "    </tr>\n",
       "  </thead>\n",
       "  <tbody>\n",
       "    <tr>\n",
       "      <th>109</th>\n",
       "      <td>Crazy Joe Biden is trying to act like a tough ...</td>\n",
       "      <td>140</td>\n",
       "      <td>976765417908776963</td>\n",
       "      <td>2018-03-22 10:19:57</td>\n",
       "      <td>Twitter for iPhone</td>\n",
       "      <td>258118</td>\n",
       "      <td>75621</td>\n",
       "      <td>-1</td>\n",
       "    </tr>\n",
       "    <tr>\n",
       "      <th>198</th>\n",
       "      <td>Lowest rated Oscars in HISTORY. Problem is, we...</td>\n",
       "      <td>122</td>\n",
       "      <td>971013841395027968</td>\n",
       "      <td>2018-03-06 13:25:15</td>\n",
       "      <td>Twitter for iPhone</td>\n",
       "      <td>212589</td>\n",
       "      <td>59063</td>\n",
       "      <td>0</td>\n",
       "    </tr>\n",
       "    <tr>\n",
       "      <th>65</th>\n",
       "      <td>HAPPY EASTER!</td>\n",
       "      <td>13</td>\n",
       "      <td>980421275326865409</td>\n",
       "      <td>2018-04-01 12:27:02</td>\n",
       "      <td>Twitter for iPhone</td>\n",
       "      <td>209264</td>\n",
       "      <td>41557</td>\n",
       "      <td>1</td>\n",
       "    </tr>\n",
       "    <tr>\n",
       "      <th>82</th>\n",
       "      <td>THE SECOND AMENDMENT WILL NEVER BE REPEALED! A...</td>\n",
       "      <td>140</td>\n",
       "      <td>978932860307505153</td>\n",
       "      <td>2018-03-28 09:52:36</td>\n",
       "      <td>Twitter for iPhone</td>\n",
       "      <td>194022</td>\n",
       "      <td>59116</td>\n",
       "      <td>1</td>\n",
       "    </tr>\n",
       "    <tr>\n",
       "      <th>184</th>\n",
       "      <td>Kim Jong Un talked about denuclearization with...</td>\n",
       "      <td>140</td>\n",
       "      <td>971915531346436096</td>\n",
       "      <td>2018-03-09 01:08:14</td>\n",
       "      <td>Twitter for iPhone</td>\n",
       "      <td>173864</td>\n",
       "      <td>45477</td>\n",
       "      <td>0</td>\n",
       "    </tr>\n",
       "  </tbody>\n",
       "</table>\n",
       "</div>"
      ],
      "text/plain": [
       "                                                Tweets  len  \\\n",
       "109  Crazy Joe Biden is trying to act like a tough ...  140   \n",
       "198  Lowest rated Oscars in HISTORY. Problem is, we...  122   \n",
       "65                                       HAPPY EASTER!   13   \n",
       "82   THE SECOND AMENDMENT WILL NEVER BE REPEALED! A...  140   \n",
       "184  Kim Jong Un talked about denuclearization with...  140   \n",
       "\n",
       "                     ID                Date              Source   Likes  \\\n",
       "109  976765417908776963 2018-03-22 10:19:57  Twitter for iPhone  258118   \n",
       "198  971013841395027968 2018-03-06 13:25:15  Twitter for iPhone  212589   \n",
       "65   980421275326865409 2018-04-01 12:27:02  Twitter for iPhone  209264   \n",
       "82   978932860307505153 2018-03-28 09:52:36  Twitter for iPhone  194022   \n",
       "184  971915531346436096 2018-03-09 01:08:14  Twitter for iPhone  173864   \n",
       "\n",
       "       RTs  SA  \n",
       "109  75621  -1  \n",
       "198  59063   0  \n",
       "65   41557   1  \n",
       "82   59116   1  \n",
       "184  45477   0  "
      ]
     },
     "execution_count": 25,
     "metadata": {},
     "output_type": "execute_result"
    }
   ],
   "source": [
    "data.sort_values(by='Likes',ascending=False,inplace=True)\n",
    "data.head()"
   ]
  },
  {
   "cell_type": "code",
   "execution_count": 40,
   "metadata": {},
   "outputs": [
    {
     "data": {
      "image/png": "[encoded data removed]",
      "text/plain": [
       "<matplotlib.figure.Figure at 0x11d2657f0>"
      ]
     },
     "metadata": {},
     "output_type": "display_data"
    }
   ],
   "source": [
    "df = data.groupby('Date').sum()\n",
    "df['mood']= df['SA'].rolling(window=20).apply(lambda x : np.sum(x))\n",
    "fig = plt.subplots(1,1,figsize=(8,8))\n",
    "plt.plot(df.index,df['mood'])\n",
    "plt.title('The Mood of the President',fontsize=14);\n"
   ]
  },
  {
   "cell_type": "code",
   "execution_count": 26,
   "metadata": {},
   "outputs": [],
   "source": [
    "pos_tweets = [ tweet for index,tweet in enumerate(data['Tweets']) if data['SA'][index] > 0]\n",
    "neu_tweets = [ tweet for index, tweet in enumerate(data['Tweets']) if data['SA'][index] == 0]\n",
    "neg_tweets = [ tweet for index, tweet in enumerate(data['Tweets']) if data['SA'][index] < 0]"
   ]
  },
  {
   "cell_type": "code",
   "execution_count": 27,
   "metadata": {},
   "outputs": [
    {
     "name": "stdout",
     "output_type": "stream",
     "text": [
      "106\n",
      "51\n",
      "43\n"
     ]
    }
   ],
   "source": [
    "print(len(pos_tweets))\n",
    "print(len(neu_tweets))\n",
    "print(len(neg_tweets))"
   ]
  },
  {
   "cell_type": "markdown",
   "metadata": {},
   "source": [
    "<h4>Most Liked positive tweet</h4>"
   ]
  },
  {
   "cell_type": "code",
   "execution_count": 30,
   "metadata": {},
   "outputs": [
    {
     "data": {
      "text/html": [
       "<div>\n",
       "<style scoped>\n",
       "    .dataframe tbody tr th:only-of-type {\n",
       "        vertical-align: middle;\n",
       "    }\n",
       "\n",
       "    .dataframe tbody tr th {\n",
       "        vertical-align: top;\n",
       "    }\n",
       "\n",
       "    .dataframe thead th {\n",
       "        text-align: right;\n",
       "    }\n",
       "</style>\n",
       "<table border=\"1\" class=\"dataframe\">\n",
       "  <thead>\n",
       "    <tr style=\"text-align: right;\">\n",
       "      <th></th>\n",
       "      <th>Tweets</th>\n",
       "      <th>len</th>\n",
       "      <th>ID</th>\n",
       "      <th>Date</th>\n",
       "      <th>Source</th>\n",
       "      <th>Likes</th>\n",
       "      <th>RTs</th>\n",
       "      <th>SA</th>\n",
       "    </tr>\n",
       "  </thead>\n",
       "  <tbody>\n",
       "    <tr>\n",
       "      <th>65</th>\n",
       "      <td>HAPPY EASTER!</td>\n",
       "      <td>13</td>\n",
       "      <td>980421275326865409</td>\n",
       "      <td>2018-04-01 12:27:02</td>\n",
       "      <td>Twitter for iPhone</td>\n",
       "      <td>209264</td>\n",
       "      <td>41557</td>\n",
       "      <td>1</td>\n",
       "    </tr>\n",
       "    <tr>\n",
       "      <th>82</th>\n",
       "      <td>THE SECOND AMENDMENT WILL NEVER BE REPEALED! A...</td>\n",
       "      <td>140</td>\n",
       "      <td>978932860307505153</td>\n",
       "      <td>2018-03-28 09:52:36</td>\n",
       "      <td>Twitter for iPhone</td>\n",
       "      <td>194022</td>\n",
       "      <td>59116</td>\n",
       "      <td>1</td>\n",
       "    </tr>\n",
       "    <tr>\n",
       "      <th>130</th>\n",
       "      <td>Andrew McCabe FIRED, a great day for the hard ...</td>\n",
       "      <td>140</td>\n",
       "      <td>974859881827258369</td>\n",
       "      <td>2018-03-17 04:08:02</td>\n",
       "      <td>Twitter for iPhone</td>\n",
       "      <td>165029</td>\n",
       "      <td>47878</td>\n",
       "      <td>1</td>\n",
       "    </tr>\n",
       "    <tr>\n",
       "      <th>38</th>\n",
       "      <td>We are not in a trade war with China, that war...</td>\n",
       "      <td>140</td>\n",
       "      <td>981492087328792577</td>\n",
       "      <td>2018-04-04 11:22:03</td>\n",
       "      <td>Twitter for iPhone</td>\n",
       "      <td>143097</td>\n",
       "      <td>37168</td>\n",
       "      <td>1</td>\n",
       "    </tr>\n",
       "    <tr>\n",
       "      <th>117</th>\n",
       "      <td>AUSTIN BOMBING SUSPECT IS DEAD. Great job by l...</td>\n",
       "      <td>79</td>\n",
       "      <td>976405122757558272</td>\n",
       "      <td>2018-03-21 10:28:16</td>\n",
       "      <td>Twitter for iPhone</td>\n",
       "      <td>136976</td>\n",
       "      <td>26631</td>\n",
       "      <td>1</td>\n",
       "    </tr>\n",
       "  </tbody>\n",
       "</table>\n",
       "</div>"
      ],
      "text/plain": [
       "                                                Tweets  len  \\\n",
       "65                                       HAPPY EASTER!   13   \n",
       "82   THE SECOND AMENDMENT WILL NEVER BE REPEALED! A...  140   \n",
       "130  Andrew McCabe FIRED, a great day for the hard ...  140   \n",
       "38   We are not in a trade war with China, that war...  140   \n",
       "117  AUSTIN BOMBING SUSPECT IS DEAD. Great job by l...   79   \n",
       "\n",
       "                     ID                Date              Source   Likes  \\\n",
       "65   980421275326865409 2018-04-01 12:27:02  Twitter for iPhone  209264   \n",
       "82   978932860307505153 2018-03-28 09:52:36  Twitter for iPhone  194022   \n",
       "130  974859881827258369 2018-03-17 04:08:02  Twitter for iPhone  165029   \n",
       "38   981492087328792577 2018-04-04 11:22:03  Twitter for iPhone  143097   \n",
       "117  976405122757558272 2018-03-21 10:28:16  Twitter for iPhone  136976   \n",
       "\n",
       "       RTs  SA  \n",
       "65   41557   1  \n",
       "82   59116   1  \n",
       "130  47878   1  \n",
       "38   37168   1  \n",
       "117  26631   1  "
      ]
     },
     "execution_count": 30,
     "metadata": {},
     "output_type": "execute_result"
    }
   ],
   "source": [
    "df_positive = data[data['SA']>0].copy()\n",
    "df_positive.sort_values(by='Likes',ascending=False,inplace=True)\n",
    "df_positive.head()"
   ]
  },
  {
   "cell_type": "code",
   "execution_count": null,
   "metadata": {},
   "outputs": [],
   "source": [
    "w"
   ]
  }
 ],
 "metadata": {
  "anaconda-cloud": {},
  "kernelspec": {
   "display_name": "Python [default]",
   "language": "python",
   "name": "python3"
  },
  "language_info": {
   "codemirror_mode": {
    "name": "ipython",
    "version": 3
   },
   "file_extension": ".py",
   "mimetype": "text/x-python",
   "name": "python",
   "nbconvert_exporter": "python",
   "pygments_lexer": "ipython3",
   "version": "3.5.2"
  }
 },
 "nbformat": 4,
 "nbformat_minor": 2
}

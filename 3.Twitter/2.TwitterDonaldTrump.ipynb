{
 "cells": [
  {
   "cell_type": "code",
   "execution_count": 3,
   "metadata": {},
   "outputs": [
    {
     "name": "stdout",
     "output_type": "stream",
     "text": [
      "my API Connected !\n"
     ]
    }
   ],
   "source": [
    "%run 0.connect_twitter.ipynb"
   ]
  },
  {
   "cell_type": "code",
   "execution_count": 4,
   "metadata": {},
   "outputs": [],
   "source": [
    "import pandas as pd\n",
    "import numpy as np\n",
    "import seaborn as sns\n",
    "import matplotlib.pyplot as plt\n",
    "%matplotlib inline"
   ]
  },
  {
   "cell_type": "markdown",
   "metadata": {},
   "source": [
    "<h3>Gathering Data</h3><br>\n",
    "Find 200 most recent tweets fom user @realDonaldTrump:"
   ]
  },
  {
   "cell_type": "code",
   "execution_count": 6,
   "metadata": {},
   "outputs": [],
   "source": [
    "name = '@realDonaldTrump'\n",
    "nbr_tweets = 400\n",
    "results = myapi.user_timeline(id=name, count=nbr_tweets)"
   ]
  },
  {
   "cell_type": "code",
   "execution_count": 8,
   "metadata": {},
   "outputs": [
    {
     "data": {
      "text/plain": [
       "tweepy.models.ResultSet"
      ]
     },
     "execution_count": 8,
     "metadata": {},
     "output_type": "execute_result"
    }
   ],
   "source": [
    "type(results)"
   ]
  },
  {
   "cell_type": "code",
   "execution_count": null,
   "metadata": {},
   "outputs": [],
   "source": [
    "data=[tweet.text for tweet in results]"
   ]
  },
  {
   "cell_type": "code",
   "execution_count": 13,
   "metadata": {},
   "outputs": [
    {
     "data": {
      "text/plain": [
       "'We are going to REBUILD our crumbling infrastructure, and there is no better place to begin this campaign than in t… https://t.co/5tbcDBRyqP'"
      ]
     },
     "execution_count": 13,
     "metadata": {},
     "output_type": "execute_result"
    }
   ],
   "source": [
    "data[-1]"
   ]
  },
  {
   "cell_type": "markdown",
   "metadata": {},
   "source": [
    "Assemble the text into a dataframe"
   ]
  },
  {
   "cell_type": "code",
   "execution_count": 14,
   "metadata": {},
   "outputs": [],
   "source": [
    "data = pd.DataFrame(data=[tweet.text for tweet in results],\n",
    "                    columns=['Tweets'])"
   ]
  },
  {
   "cell_type": "code",
   "execution_count": 15,
   "metadata": {},
   "outputs": [
    {
     "data": {
      "text/html": [
       "<div>\n",
       "<style scoped>\n",
       "    .dataframe tbody tr th:only-of-type {\n",
       "        vertical-align: middle;\n",
       "    }\n",
       "\n",
       "    .dataframe tbody tr th {\n",
       "        vertical-align: top;\n",
       "    }\n",
       "\n",
       "    .dataframe thead th {\n",
       "        text-align: right;\n",
       "    }\n",
       "</style>\n",
       "<table border=\"1\" class=\"dataframe\">\n",
       "  <thead>\n",
       "    <tr style=\"text-align: right;\">\n",
       "      <th></th>\n",
       "      <th>Tweets</th>\n",
       "    </tr>\n",
       "  </thead>\n",
       "  <tbody>\n",
       "    <tr>\n",
       "      <th>0</th>\n",
       "      <td>Hard to believe Obstructionists May vote again...</td>\n",
       "    </tr>\n",
       "    <tr>\n",
       "      <th>1</th>\n",
       "      <td>Thank you to the incredible Law Enforcement Of...</td>\n",
       "    </tr>\n",
       "    <tr>\n",
       "      <th>2</th>\n",
       "      <td>Kim Strassel of the WSJ just said, after revie...</td>\n",
       "    </tr>\n",
       "    <tr>\n",
       "      <th>3</th>\n",
       "      <td>Funny how all of the Pundits that couldn’t com...</td>\n",
       "    </tr>\n",
       "    <tr>\n",
       "      <th>4</th>\n",
       "      <td>A complete Witch Hunt!</td>\n",
       "    </tr>\n",
       "  </tbody>\n",
       "</table>\n",
       "</div>"
      ],
      "text/plain": [
       "                                              Tweets\n",
       "0  Hard to believe Obstructionists May vote again...\n",
       "1  Thank you to the incredible Law Enforcement Of...\n",
       "2  Kim Strassel of the WSJ just said, after revie...\n",
       "3  Funny how all of the Pundits that couldn’t com...\n",
       "4                             A complete Witch Hunt!"
      ]
     },
     "execution_count": 15,
     "metadata": {},
     "output_type": "execute_result"
    }
   ],
   "source": [
    "data.head()"
   ]
  },
  {
   "cell_type": "markdown",
   "metadata": {},
   "source": [
    "The interesting part from here is the quantity of metadata contained in a single tweet. If we want to obtain data such as the creation date, or the source of creation, we can access the info with this attributes. An example is the following:"
   ]
  },
  {
   "cell_type": "code",
   "execution_count": 21,
   "metadata": {},
   "outputs": [
    {
     "data": {
      "text/plain": [
       "16632"
      ]
     },
     "execution_count": 21,
     "metadata": {},
     "output_type": "execute_result"
    }
   ],
   "source": [
    "results[-1].retweet_count"
   ]
  },
  {
   "cell_type": "code",
   "execution_count": 116,
   "metadata": {},
   "outputs": [
    {
     "name": "stdout",
     "output_type": "stream",
     "text": [
      "['__class__', '__delattr__', '__dict__', '__dir__', '__doc__', '__eq__', '__format__', '__ge__', '__getattribute__', '__getstate__', '__gt__', '__hash__', '__init__', '__le__', '__lt__', '__module__', '__ne__', '__new__', '__reduce__', '__reduce_ex__', '__repr__', '__setattr__', '__sizeof__', '__str__', '__subclasshook__', '__weakref__', '_api', '_json', 'author', 'contributors', 'coordinates', 'created_at', 'destroy', 'entities', 'favorite', 'favorite_count', 'favorited', 'geo', 'id', 'id_str', 'in_reply_to_screen_name', 'in_reply_to_status_id', 'in_reply_to_status_id_str', 'in_reply_to_user_id', 'in_reply_to_user_id_str', 'is_quote_status', 'lang', 'parse', 'parse_list', 'place', 'retweet', 'retweet_count', 'retweeted', 'retweets', 'source', 'source_url', 'text', 'truncated', 'user']\n"
     ]
    }
   ],
   "source": [
    "print(dir(results[0]))"
   ]
  },
  {
   "cell_type": "markdown",
   "metadata": {},
   "source": [
    "Getting the meta data from the first tweet in the lsit"
   ]
  },
  {
   "cell_type": "code",
   "execution_count": 22,
   "metadata": {},
   "outputs": [
    {
     "name": "stdout",
     "output_type": "stream",
     "text": [
      "id: 988405962624118785\n",
      "created at: 2018-04-23 13:15:19\n",
      "source: Twitter for iPhone\n",
      "likes: 13779\n",
      "retweets: 4041\n",
      "geo-location: None\n",
      "message: Hard to believe Obstructionists May vote against Mike Pompeo for Secretary of State. The Dems will not approve hund… https://t.co/ZElatyv8Fx\n"
     ]
    }
   ],
   "source": [
    "print('id:',results[0].id)\n",
    "print('created at:',results[0].created_at)\n",
    "print('source:',results[0].source)\n",
    "print('likes:',results[0].favorite_count)\n",
    "print('retweets:',results[0].retweet_count)\n",
    "print('geo-location:',results[0].geo)\n",
    "print('message:',results[0].text)"
   ]
  },
  {
   "cell_type": "markdown",
   "metadata": {},
   "source": [
    "<h4>Adding more data to the dataframe </h4>"
   ]
  },
  {
   "cell_type": "code",
   "execution_count": 23,
   "metadata": {},
   "outputs": [],
   "source": [
    "data['len']  = np.array([len(tweet.text) for tweet in results])\n",
    "data['ID']   = np.array([tweet.id for tweet in results])\n",
    "data['Date'] = np.array([tweet.created_at for tweet in results])\n",
    "data['Source'] = np.array([tweet.source for tweet in results])\n",
    "data['Likes']  = np.array([tweet.favorite_count for tweet in results])\n",
    "data['RTs']    = np.array([tweet.retweet_count for tweet in results])"
   ]
  },
  {
   "cell_type": "code",
   "execution_count": 24,
   "metadata": {},
   "outputs": [
    {
     "data": {
      "text/html": [
       "<div>\n",
       "<style scoped>\n",
       "    .dataframe tbody tr th:only-of-type {\n",
       "        vertical-align: middle;\n",
       "    }\n",
       "\n",
       "    .dataframe tbody tr th {\n",
       "        vertical-align: top;\n",
       "    }\n",
       "\n",
       "    .dataframe thead th {\n",
       "        text-align: right;\n",
       "    }\n",
       "</style>\n",
       "<table border=\"1\" class=\"dataframe\">\n",
       "  <thead>\n",
       "    <tr style=\"text-align: right;\">\n",
       "      <th></th>\n",
       "      <th>Tweets</th>\n",
       "      <th>len</th>\n",
       "      <th>ID</th>\n",
       "      <th>Date</th>\n",
       "      <th>Source</th>\n",
       "      <th>Likes</th>\n",
       "      <th>RTs</th>\n",
       "    </tr>\n",
       "  </thead>\n",
       "  <tbody>\n",
       "    <tr>\n",
       "      <th>0</th>\n",
       "      <td>Hard to believe Obstructionists May vote again...</td>\n",
       "      <td>140</td>\n",
       "      <td>988405962624118785</td>\n",
       "      <td>2018-04-23 13:15:19</td>\n",
       "      <td>Twitter for iPhone</td>\n",
       "      <td>13779</td>\n",
       "      <td>4041</td>\n",
       "    </tr>\n",
       "    <tr>\n",
       "      <th>1</th>\n",
       "      <td>Thank you to the incredible Law Enforcement Of...</td>\n",
       "      <td>140</td>\n",
       "      <td>988148545545895937</td>\n",
       "      <td>2018-04-22 20:12:26</td>\n",
       "      <td>Twitter for iPhone</td>\n",
       "      <td>72276</td>\n",
       "      <td>13697</td>\n",
       "    </tr>\n",
       "    <tr>\n",
       "      <th>2</th>\n",
       "      <td>Kim Strassel of the WSJ just said, after revie...</td>\n",
       "      <td>140</td>\n",
       "      <td>988146462625181696</td>\n",
       "      <td>2018-04-22 20:04:10</td>\n",
       "      <td>Twitter for iPhone</td>\n",
       "      <td>75225</td>\n",
       "      <td>20049</td>\n",
       "    </tr>\n",
       "    <tr>\n",
       "      <th>3</th>\n",
       "      <td>Funny how all of the Pundits that couldn’t com...</td>\n",
       "      <td>140</td>\n",
       "      <td>988126197619068928</td>\n",
       "      <td>2018-04-22 18:43:38</td>\n",
       "      <td>Twitter for iPhone</td>\n",
       "      <td>100339</td>\n",
       "      <td>24392</td>\n",
       "    </tr>\n",
       "    <tr>\n",
       "      <th>4</th>\n",
       "      <td>A complete Witch Hunt!</td>\n",
       "      <td>22</td>\n",
       "      <td>988106076028653568</td>\n",
       "      <td>2018-04-22 17:23:41</td>\n",
       "      <td>Twitter for iPhone</td>\n",
       "      <td>81436</td>\n",
       "      <td>17835</td>\n",
       "    </tr>\n",
       "  </tbody>\n",
       "</table>\n",
       "</div>"
      ],
      "text/plain": [
       "                                              Tweets  len                  ID  \\\n",
       "0  Hard to believe Obstructionists May vote again...  140  988405962624118785   \n",
       "1  Thank you to the incredible Law Enforcement Of...  140  988148545545895937   \n",
       "2  Kim Strassel of the WSJ just said, after revie...  140  988146462625181696   \n",
       "3  Funny how all of the Pundits that couldn’t com...  140  988126197619068928   \n",
       "4                             A complete Witch Hunt!   22  988106076028653568   \n",
       "\n",
       "                 Date              Source   Likes    RTs  \n",
       "0 2018-04-23 13:15:19  Twitter for iPhone   13779   4041  \n",
       "1 2018-04-22 20:12:26  Twitter for iPhone   72276  13697  \n",
       "2 2018-04-22 20:04:10  Twitter for iPhone   75225  20049  \n",
       "3 2018-04-22 18:43:38  Twitter for iPhone  100339  24392  \n",
       "4 2018-04-22 17:23:41  Twitter for iPhone   81436  17835  "
      ]
     },
     "execution_count": 24,
     "metadata": {},
     "output_type": "execute_result"
    }
   ],
   "source": [
    "data.head()"
   ]
  },
  {
   "cell_type": "markdown",
   "metadata": {},
   "source": [
    "<h3>Interpretation of the data</h3>"
   ]
  },
  {
   "cell_type": "code",
   "execution_count": 26,
   "metadata": {},
   "outputs": [
    {
     "name": "stdout",
     "output_type": "stream",
     "text": [
      "209172\n",
      "66623\n"
     ]
    }
   ],
   "source": [
    "likes_max = np.max(data['Likes'])\n",
    "print(likes_max)\n",
    "retweet_max  = np.max(data['RTs'])\n",
    "print(retweet_max)"
   ]
  },
  {
   "cell_type": "code",
   "execution_count": 27,
   "metadata": {},
   "outputs": [
    {
     "name": "stdout",
     "output_type": "stream",
     "text": [
      "192\n",
      "123\n"
     ]
    }
   ],
   "source": [
    "likes = data[data['Likes'] == likes_max].index[0]\n",
    "print(likes)\n",
    "retweets  = data[data.RTs == retweet_max].index[0]\n",
    "print(retweets)"
   ]
  },
  {
   "cell_type": "code",
   "execution_count": 35,
   "metadata": {},
   "outputs": [
    {
     "name": "stdout",
     "output_type": "stream",
     "text": [
      "Russia vows to shoot down any and all missiles fired at Syria. Get ready Russia,  because they will be coming, nice… https://t.co/tFXJAYDnOh\n"
     ]
    }
   ],
   "source": [
    "print(data.loc[123,:]['Tweets'])"
   ]
  },
  {
   "cell_type": "code",
   "execution_count": 122,
   "metadata": {},
   "outputs": [
    {
     "data": {
      "text/plain": [
       "148"
      ]
     },
     "execution_count": 122,
     "metadata": {},
     "output_type": "execute_result"
    }
   ],
   "source": [
    "retweets"
   ]
  },
  {
   "cell_type": "code",
   "execution_count": 36,
   "metadata": {},
   "outputs": [
    {
     "name": "stdout",
     "output_type": "stream",
     "text": [
      "The tweet with most likes is: \n",
      "HAPPY EASTER!\n",
      "Number of likes: 209172\n",
      "13 characters.\n",
      "Tweeted at 2018-04-01 12:27:02\n"
     ]
    }
   ],
   "source": [
    "# Max FAVs:\n",
    "print(\"The tweet with most likes is: \\n{}\".format(data['Tweets'][likes]))\n",
    "print(\"Number of likes: {}\".format(likes_max))\n",
    "print(\"{} characters.\".format(data['len'][likes]))\n",
    "print(\"Tweeted at {s}\".format(s=data['Date'][likes]))"
   ]
  },
  {
   "cell_type": "code",
   "execution_count": 37,
   "metadata": {},
   "outputs": [
    {
     "data": {
      "text/html": [
       "<div>\n",
       "<style scoped>\n",
       "    .dataframe tbody tr th:only-of-type {\n",
       "        vertical-align: middle;\n",
       "    }\n",
       "\n",
       "    .dataframe tbody tr th {\n",
       "        vertical-align: top;\n",
       "    }\n",
       "\n",
       "    .dataframe thead th {\n",
       "        text-align: right;\n",
       "    }\n",
       "</style>\n",
       "<table border=\"1\" class=\"dataframe\">\n",
       "  <thead>\n",
       "    <tr style=\"text-align: right;\">\n",
       "      <th></th>\n",
       "      <th>Tweets</th>\n",
       "      <th>len</th>\n",
       "      <th>ID</th>\n",
       "      <th>Date</th>\n",
       "      <th>Source</th>\n",
       "      <th>Likes</th>\n",
       "      <th>RTs</th>\n",
       "    </tr>\n",
       "  </thead>\n",
       "  <tbody>\n",
       "    <tr>\n",
       "      <th>192</th>\n",
       "      <td>HAPPY EASTER!</td>\n",
       "      <td>13</td>\n",
       "      <td>980421275326865409</td>\n",
       "      <td>2018-04-01 12:27:02</td>\n",
       "      <td>Twitter for iPhone</td>\n",
       "      <td>209172</td>\n",
       "      <td>41375</td>\n",
       "    </tr>\n",
       "    <tr>\n",
       "      <th>99</th>\n",
       "      <td>A perfectly executed strike last night. Thank ...</td>\n",
       "      <td>140</td>\n",
       "      <td>985130802668294144</td>\n",
       "      <td>2018-04-14 12:21:00</td>\n",
       "      <td>Twitter for iPhone</td>\n",
       "      <td>200066</td>\n",
       "      <td>43579</td>\n",
       "    </tr>\n",
       "    <tr>\n",
       "      <th>25</th>\n",
       "      <td>North Korea has agreed to suspend all Nuclear ...</td>\n",
       "      <td>140</td>\n",
       "      <td>987463564305797126</td>\n",
       "      <td>2018-04-20 22:50:34</td>\n",
       "      <td>Twitter for iPhone</td>\n",
       "      <td>183126</td>\n",
       "      <td>46868</td>\n",
       "    </tr>\n",
       "    <tr>\n",
       "      <th>135</th>\n",
       "      <td>When a car is sent to the United States from C...</td>\n",
       "      <td>140</td>\n",
       "      <td>983284198046826496</td>\n",
       "      <td>2018-04-09 10:03:16</td>\n",
       "      <td>Twitter for iPhone</td>\n",
       "      <td>176795</td>\n",
       "      <td>46829</td>\n",
       "    </tr>\n",
       "  </tbody>\n",
       "</table>\n",
       "</div>"
      ],
      "text/plain": [
       "                                                Tweets  len  \\\n",
       "192                                      HAPPY EASTER!   13   \n",
       "99   A perfectly executed strike last night. Thank ...  140   \n",
       "25   North Korea has agreed to suspend all Nuclear ...  140   \n",
       "135  When a car is sent to the United States from C...  140   \n",
       "\n",
       "                     ID                Date              Source   Likes    RTs  \n",
       "192  980421275326865409 2018-04-01 12:27:02  Twitter for iPhone  209172  41375  \n",
       "99   985130802668294144 2018-04-14 12:21:00  Twitter for iPhone  200066  43579  \n",
       "25   987463564305797126 2018-04-20 22:50:34  Twitter for iPhone  183126  46868  \n",
       "135  983284198046826496 2018-04-09 10:03:16  Twitter for iPhone  176795  46829  "
      ]
     },
     "execution_count": 37,
     "metadata": {},
     "output_type": "execute_result"
    }
   ],
   "source": [
    "data.sort_values(by='Likes',ascending=False).head(4)"
   ]
  },
  {
   "cell_type": "markdown",
   "metadata": {},
   "source": [
    "<h3>Making Graphs</h3>"
   ]
  },
  {
   "cell_type": "code",
   "execution_count": 125,
   "metadata": {},
   "outputs": [
    {
     "data": {
      "text/plain": [
       "pandas.core.series.Series"
      ]
     },
     "execution_count": 125,
     "metadata": {},
     "output_type": "execute_result"
    }
   ],
   "source": [
    "t_likes = pd.Series(data=data['Likes'].values, index=data['Date'])\n",
    "type(t_likes)"
   ]
  },
  {
   "cell_type": "code",
   "execution_count": 126,
   "metadata": {},
   "outputs": [],
   "source": [
    "t_retweets = pd.Series(data=data['RTs'].values, index=data['Date'])"
   ]
  },
  {
   "cell_type": "code",
   "execution_count": 127,
   "metadata": {},
   "outputs": [
    {
     "data": {
      "image/png": "[encoded data removed]",
      "text/plain": [
       "<matplotlib.figure.Figure at 0x11d234f60>"
      ]
     },
     "metadata": {},
     "output_type": "display_data"
    }
   ],
   "source": [
    "t_likes.plot(title='Donald Trump',\n",
    "             figsize=(12,6),\n",
    "             legend=True,\n",
    "             label='Likes');\n",
    "t_retweets.plot(legend=True,label='Retweets');"
   ]
  },
  {
   "cell_type": "markdown",
   "metadata": {},
   "source": [
    "<h3>Sentiment Analysis of the Tweets</h3>"
   ]
  },
  {
   "cell_type": "code",
   "execution_count": 38,
   "metadata": {},
   "outputs": [],
   "source": [
    "from textblob import TextBlob\n",
    "import re"
   ]
  },
  {
   "cell_type": "markdown",
   "metadata": {},
   "source": [
    "Define 2 different utility functions"
   ]
  },
  {
   "cell_type": "code",
   "execution_count": 45,
   "metadata": {},
   "outputs": [],
   "source": [
    "def clean_tweet(tweet):\n",
    "    '''\n",
    "    Utility function to clean the text in a tweet by removing \n",
    "    links and special characters using regex.\n",
    "    '''\n",
    "    return ' '.join(re.sub(\"(@[A-Za-z0-9]+)|([^0-9A-Za-z \\t])|(\\w+:\\/\\/\\S+)\", \" \", tweet).split())\n",
    "\n",
    "def analyze_sentiment(tweet):\n",
    "    '''\n",
    "    Utility function to classify the polarity of a tweet\n",
    "    using textblob.\n",
    "    '''\n",
    "    #analysis = TextBlob(clean_tweet(tweet))\n",
    "    analysis = TextBlob(tweet)\n",
    "    if analysis.sentiment.polarity > 0:\n",
    "        return 1\n",
    "    elif analysis.sentiment.polarity == 0:\n",
    "        return 0\n",
    "    else:\n",
    "        return -1"
   ]
  },
  {
   "cell_type": "code",
   "execution_count": 46,
   "metadata": {},
   "outputs": [
    {
     "name": "stdout",
     "output_type": "stream",
     "text": [
      "polarity 0.0\n",
      "subj 0.0\n"
     ]
    },
    {
     "data": {
      "text/plain": [
       "1"
      ]
     },
     "execution_count": 46,
     "metadata": {},
     "output_type": "execute_result"
    }
   ],
   "source": [
    "txt = TextBlob('KU Leuven has  departments')\n",
    "print('polarity',txt.sentiment.polarity)\n",
    "print('subj',txt.sentiment.subjectivity)\n",
    "analyze_sentiment('KU Leuven is great')"
   ]
  },
  {
   "cell_type": "code",
   "execution_count": 47,
   "metadata": {},
   "outputs": [],
   "source": [
    "x  = [ analyze_sentiment(tweet) for tweet in data['Tweets'] ]"
   ]
  },
  {
   "cell_type": "code",
   "execution_count": 48,
   "metadata": {},
   "outputs": [],
   "source": [
    "data['SA'] = np.array(x)"
   ]
  },
  {
   "cell_type": "code",
   "execution_count": 49,
   "metadata": {},
   "outputs": [
    {
     "data": {
      "text/html": [
       "<div>\n",
       "<style scoped>\n",
       "    .dataframe tbody tr th:only-of-type {\n",
       "        vertical-align: middle;\n",
       "    }\n",
       "\n",
       "    .dataframe tbody tr th {\n",
       "        vertical-align: top;\n",
       "    }\n",
       "\n",
       "    .dataframe thead th {\n",
       "        text-align: right;\n",
       "    }\n",
       "</style>\n",
       "<table border=\"1\" class=\"dataframe\">\n",
       "  <thead>\n",
       "    <tr style=\"text-align: right;\">\n",
       "      <th></th>\n",
       "      <th>Tweets</th>\n",
       "      <th>len</th>\n",
       "      <th>ID</th>\n",
       "      <th>Date</th>\n",
       "      <th>Source</th>\n",
       "      <th>Likes</th>\n",
       "      <th>RTs</th>\n",
       "      <th>SA</th>\n",
       "    </tr>\n",
       "  </thead>\n",
       "  <tbody>\n",
       "    <tr>\n",
       "      <th>0</th>\n",
       "      <td>Hard to believe Obstructionists May vote again...</td>\n",
       "      <td>140</td>\n",
       "      <td>988405962624118785</td>\n",
       "      <td>2018-04-23 13:15:19</td>\n",
       "      <td>Twitter for iPhone</td>\n",
       "      <td>13779</td>\n",
       "      <td>4041</td>\n",
       "      <td>-1</td>\n",
       "    </tr>\n",
       "    <tr>\n",
       "      <th>1</th>\n",
       "      <td>Thank you to the incredible Law Enforcement Of...</td>\n",
       "      <td>140</td>\n",
       "      <td>988148545545895937</td>\n",
       "      <td>2018-04-22 20:12:26</td>\n",
       "      <td>Twitter for iPhone</td>\n",
       "      <td>72276</td>\n",
       "      <td>13697</td>\n",
       "      <td>1</td>\n",
       "    </tr>\n",
       "    <tr>\n",
       "      <th>2</th>\n",
       "      <td>Kim Strassel of the WSJ just said, after revie...</td>\n",
       "      <td>140</td>\n",
       "      <td>988146462625181696</td>\n",
       "      <td>2018-04-22 20:04:10</td>\n",
       "      <td>Twitter for iPhone</td>\n",
       "      <td>75225</td>\n",
       "      <td>20049</td>\n",
       "      <td>-1</td>\n",
       "    </tr>\n",
       "    <tr>\n",
       "      <th>3</th>\n",
       "      <td>Funny how all of the Pundits that couldn’t com...</td>\n",
       "      <td>140</td>\n",
       "      <td>988126197619068928</td>\n",
       "      <td>2018-04-22 18:43:38</td>\n",
       "      <td>Twitter for iPhone</td>\n",
       "      <td>100339</td>\n",
       "      <td>24392</td>\n",
       "      <td>1</td>\n",
       "    </tr>\n",
       "    <tr>\n",
       "      <th>4</th>\n",
       "      <td>A complete Witch Hunt!</td>\n",
       "      <td>22</td>\n",
       "      <td>988106076028653568</td>\n",
       "      <td>2018-04-22 17:23:41</td>\n",
       "      <td>Twitter for iPhone</td>\n",
       "      <td>81436</td>\n",
       "      <td>17835</td>\n",
       "      <td>1</td>\n",
       "    </tr>\n",
       "  </tbody>\n",
       "</table>\n",
       "</div>"
      ],
      "text/plain": [
       "                                              Tweets  len                  ID  \\\n",
       "0  Hard to believe Obstructionists May vote again...  140  988405962624118785   \n",
       "1  Thank you to the incredible Law Enforcement Of...  140  988148545545895937   \n",
       "2  Kim Strassel of the WSJ just said, after revie...  140  988146462625181696   \n",
       "3  Funny how all of the Pundits that couldn’t com...  140  988126197619068928   \n",
       "4                             A complete Witch Hunt!   22  988106076028653568   \n",
       "\n",
       "                 Date              Source   Likes    RTs  SA  \n",
       "0 2018-04-23 13:15:19  Twitter for iPhone   13779   4041  -1  \n",
       "1 2018-04-22 20:12:26  Twitter for iPhone   72276  13697   1  \n",
       "2 2018-04-22 20:04:10  Twitter for iPhone   75225  20049  -1  \n",
       "3 2018-04-22 18:43:38  Twitter for iPhone  100339  24392   1  \n",
       "4 2018-04-22 17:23:41  Twitter for iPhone   81436  17835   1  "
      ]
     },
     "execution_count": 49,
     "metadata": {},
     "output_type": "execute_result"
    }
   ],
   "source": [
    "data.sort_values(by='Date',ascending=False,inplace=True)\n",
    "data.head()"
   ]
  },
  {
   "cell_type": "markdown",
   "metadata": {},
   "source": [
    "The time has to be removed from the date"
   ]
  },
  {
   "cell_type": "code",
   "execution_count": 51,
   "metadata": {},
   "outputs": [],
   "source": [
    "data['Date']=data['Date'].apply(lambda x : pd.to_datetime(pd.to_datetime(x).strftime('%Y%m%d')))"
   ]
  },
  {
   "cell_type": "code",
   "execution_count": 52,
   "metadata": {},
   "outputs": [],
   "source": [
    "df = data.groupby('Date').sum()"
   ]
  },
  {
   "cell_type": "code",
   "execution_count": 53,
   "metadata": {},
   "outputs": [
    {
     "data": {
      "text/html": [
       "<div>\n",
       "<style scoped>\n",
       "    .dataframe tbody tr th:only-of-type {\n",
       "        vertical-align: middle;\n",
       "    }\n",
       "\n",
       "    .dataframe tbody tr th {\n",
       "        vertical-align: top;\n",
       "    }\n",
       "\n",
       "    .dataframe thead th {\n",
       "        text-align: right;\n",
       "    }\n",
       "</style>\n",
       "<table border=\"1\" class=\"dataframe\">\n",
       "  <thead>\n",
       "    <tr style=\"text-align: right;\">\n",
       "      <th></th>\n",
       "      <th>len</th>\n",
       "      <th>ID</th>\n",
       "      <th>Likes</th>\n",
       "      <th>RTs</th>\n",
       "      <th>SA</th>\n",
       "    </tr>\n",
       "    <tr>\n",
       "      <th>Date</th>\n",
       "      <th></th>\n",
       "      <th></th>\n",
       "      <th></th>\n",
       "      <th></th>\n",
       "      <th></th>\n",
       "    </tr>\n",
       "  </thead>\n",
       "  <tbody>\n",
       "    <tr>\n",
       "      <th>2018-03-29</th>\n",
       "      <td>420.0</td>\n",
       "      <td>2.938342e+18</td>\n",
       "      <td>254916.0</td>\n",
       "      <td>61920.0</td>\n",
       "      <td>1.0</td>\n",
       "    </tr>\n",
       "    <tr>\n",
       "      <th>2018-03-30</th>\n",
       "      <td>23.0</td>\n",
       "      <td>9.798168e+17</td>\n",
       "      <td>88149.0</td>\n",
       "      <td>25446.0</td>\n",
       "      <td>0.0</td>\n",
       "    </tr>\n",
       "    <tr>\n",
       "      <th>2018-03-31</th>\n",
       "      <td>419.0</td>\n",
       "      <td>2.940194e+18</td>\n",
       "      <td>270423.0</td>\n",
       "      <td>76662.0</td>\n",
       "      <td>-3.0</td>\n",
       "    </tr>\n",
       "    <tr>\n",
       "      <th>2018-04-01</th>\n",
       "      <td>385.0</td>\n",
       "      <td>3.921768e+18</td>\n",
       "      <td>554042.0</td>\n",
       "      <td>132024.0</td>\n",
       "      <td>-1.0</td>\n",
       "    </tr>\n",
       "    <tr>\n",
       "      <th>2018-04-02</th>\n",
       "      <td>1159.0</td>\n",
       "      <td>8.827173e+18</td>\n",
       "      <td>682359.0</td>\n",
       "      <td>167898.0</td>\n",
       "      <td>-3.0</td>\n",
       "    </tr>\n",
       "  </tbody>\n",
       "</table>\n",
       "</div>"
      ],
      "text/plain": [
       "               len            ID     Likes       RTs   SA\n",
       "Date                                                     \n",
       "2018-03-29   420.0  2.938342e+18  254916.0   61920.0  1.0\n",
       "2018-03-30    23.0  9.798168e+17   88149.0   25446.0  0.0\n",
       "2018-03-31   419.0  2.940194e+18  270423.0   76662.0 -3.0\n",
       "2018-04-01   385.0  3.921768e+18  554042.0  132024.0 -1.0\n",
       "2018-04-02  1159.0  8.827173e+18  682359.0  167898.0 -3.0"
      ]
     },
     "execution_count": 53,
     "metadata": {},
     "output_type": "execute_result"
    }
   ],
   "source": [
    "df.head()"
   ]
  },
  {
   "cell_type": "code",
   "execution_count": 54,
   "metadata": {},
   "outputs": [],
   "source": [
    "df['mood']= df['SA'].rolling(window=5).apply(lambda x : np.sum(x))"
   ]
  },
  {
   "cell_type": "code",
   "execution_count": 56,
   "metadata": {},
   "outputs": [
    {
     "data": {
      "text/html": [
       "<div>\n",
       "<style scoped>\n",
       "    .dataframe tbody tr th:only-of-type {\n",
       "        vertical-align: middle;\n",
       "    }\n",
       "\n",
       "    .dataframe tbody tr th {\n",
       "        vertical-align: top;\n",
       "    }\n",
       "\n",
       "    .dataframe thead th {\n",
       "        text-align: right;\n",
       "    }\n",
       "</style>\n",
       "<table border=\"1\" class=\"dataframe\">\n",
       "  <thead>\n",
       "    <tr style=\"text-align: right;\">\n",
       "      <th></th>\n",
       "      <th>len</th>\n",
       "      <th>ID</th>\n",
       "      <th>Likes</th>\n",
       "      <th>RTs</th>\n",
       "      <th>SA</th>\n",
       "      <th>mood</th>\n",
       "    </tr>\n",
       "    <tr>\n",
       "      <th>Date</th>\n",
       "      <th></th>\n",
       "      <th></th>\n",
       "      <th></th>\n",
       "      <th></th>\n",
       "      <th></th>\n",
       "      <th></th>\n",
       "    </tr>\n",
       "  </thead>\n",
       "  <tbody>\n",
       "    <tr>\n",
       "      <th>2018-04-19</th>\n",
       "      <td>1932.0</td>\n",
       "      <td>1.381812e+19</td>\n",
       "      <td>894421.0</td>\n",
       "      <td>226437.0</td>\n",
       "      <td>8.0</td>\n",
       "      <td>16.0</td>\n",
       "    </tr>\n",
       "    <tr>\n",
       "      <th>2018-04-20</th>\n",
       "      <td>1119.0</td>\n",
       "      <td>7.898660e+18</td>\n",
       "      <td>944927.0</td>\n",
       "      <td>237390.0</td>\n",
       "      <td>3.0</td>\n",
       "      <td>19.0</td>\n",
       "    </tr>\n",
       "    <tr>\n",
       "      <th>2018-04-21</th>\n",
       "      <td>1953.0</td>\n",
       "      <td>1.481568e+19</td>\n",
       "      <td>1041215.0</td>\n",
       "      <td>251542.0</td>\n",
       "      <td>3.0</td>\n",
       "      <td>24.0</td>\n",
       "    </tr>\n",
       "    <tr>\n",
       "      <th>2018-04-22</th>\n",
       "      <td>959.0</td>\n",
       "      <td>7.904691e+18</td>\n",
       "      <td>673026.0</td>\n",
       "      <td>154664.0</td>\n",
       "      <td>2.0</td>\n",
       "      <td>17.0</td>\n",
       "    </tr>\n",
       "    <tr>\n",
       "      <th>2018-04-23</th>\n",
       "      <td>140.0</td>\n",
       "      <td>9.884060e+17</td>\n",
       "      <td>13779.0</td>\n",
       "      <td>4041.0</td>\n",
       "      <td>-1.0</td>\n",
       "      <td>15.0</td>\n",
       "    </tr>\n",
       "  </tbody>\n",
       "</table>\n",
       "</div>"
      ],
      "text/plain": [
       "               len            ID      Likes       RTs   SA  mood\n",
       "Date                                                            \n",
       "2018-04-19  1932.0  1.381812e+19   894421.0  226437.0  8.0  16.0\n",
       "2018-04-20  1119.0  7.898660e+18   944927.0  237390.0  3.0  19.0\n",
       "2018-04-21  1953.0  1.481568e+19  1041215.0  251542.0  3.0  24.0\n",
       "2018-04-22   959.0  7.904691e+18   673026.0  154664.0  2.0  17.0\n",
       "2018-04-23   140.0  9.884060e+17    13779.0    4041.0 -1.0  15.0"
      ]
     },
     "execution_count": 56,
     "metadata": {},
     "output_type": "execute_result"
    }
   ],
   "source": [
    "df.tail()"
   ]
  },
  {
   "cell_type": "code",
   "execution_count": 57,
   "metadata": {},
   "outputs": [
    {
     "data": {
      "image/png": "[encoded data removed]",
      "text/plain": [
       "<matplotlib.figure.Figure at 0x11e4973c8>"
      ]
     },
     "metadata": {},
     "output_type": "display_data"
    }
   ],
   "source": [
    "fig = plt.subplots(1,1,figsize=(14,8))\n",
    "plt.plot(df.index,df['mood'])\n",
    "plt.title('The Mood of the President',fontsize=14);"
   ]
  },
  {
   "cell_type": "code",
   "execution_count": null,
   "metadata": {},
   "outputs": [],
   "source": []
  },
  {
   "cell_type": "code",
   "execution_count": null,
   "metadata": {},
   "outputs": [],
   "source": []
  },
  {
   "cell_type": "code",
   "execution_count": 139,
   "metadata": {},
   "outputs": [],
   "source": [
    "pos_tweets = [ tweet for index,tweet in enumerate(data['Tweets']) if data['SA'][index] > 0]\n",
    "neu_tweets = [ tweet for index, tweet in enumerate(data['Tweets']) if data['SA'][index] == 0]\n",
    "neg_tweets = [ tweet for index, tweet in enumerate(data['Tweets']) if data['SA'][index] < 0]"
   ]
  },
  {
   "cell_type": "code",
   "execution_count": 140,
   "metadata": {},
   "outputs": [
    {
     "name": "stdout",
     "output_type": "stream",
     "text": [
      "99\n",
      "52\n",
      "49\n"
     ]
    }
   ],
   "source": [
    "print(len(pos_tweets))\n",
    "print(len(neu_tweets))\n",
    "print(len(neg_tweets))"
   ]
  },
  {
   "cell_type": "markdown",
   "metadata": {},
   "source": [
    "<h4>Most Liked positive tweet</h4>"
   ]
  },
  {
   "cell_type": "code",
   "execution_count": 141,
   "metadata": {},
   "outputs": [
    {
     "data": {
      "text/html": [
       "<div>\n",
       "<style scoped>\n",
       "    .dataframe tbody tr th:only-of-type {\n",
       "        vertical-align: middle;\n",
       "    }\n",
       "\n",
       "    .dataframe tbody tr th {\n",
       "        vertical-align: top;\n",
       "    }\n",
       "\n",
       "    .dataframe thead th {\n",
       "        text-align: right;\n",
       "    }\n",
       "</style>\n",
       "<table border=\"1\" class=\"dataframe\">\n",
       "  <thead>\n",
       "    <tr style=\"text-align: right;\">\n",
       "      <th></th>\n",
       "      <th>Tweets</th>\n",
       "      <th>len</th>\n",
       "      <th>ID</th>\n",
       "      <th>Date</th>\n",
       "      <th>Source</th>\n",
       "      <th>Likes</th>\n",
       "      <th>RTs</th>\n",
       "      <th>SA</th>\n",
       "    </tr>\n",
       "  </thead>\n",
       "  <tbody>\n",
       "    <tr>\n",
       "      <th>104</th>\n",
       "      <td>HAPPY EASTER!</td>\n",
       "      <td>13</td>\n",
       "      <td>980421275326865409</td>\n",
       "      <td>2018-04-01</td>\n",
       "      <td>Twitter for iPhone</td>\n",
       "      <td>209538</td>\n",
       "      <td>41504</td>\n",
       "      <td>1</td>\n",
       "    </tr>\n",
       "    <tr>\n",
       "      <th>121</th>\n",
       "      <td>THE SECOND AMENDMENT WILL NEVER BE REPEALED! A...</td>\n",
       "      <td>140</td>\n",
       "      <td>978932860307505153</td>\n",
       "      <td>2018-03-28</td>\n",
       "      <td>Twitter for iPhone</td>\n",
       "      <td>194115</td>\n",
       "      <td>59183</td>\n",
       "      <td>1</td>\n",
       "    </tr>\n",
       "    <tr>\n",
       "      <th>11</th>\n",
       "      <td>A perfectly executed strike last night. Thank ...</td>\n",
       "      <td>140</td>\n",
       "      <td>985130802668294144</td>\n",
       "      <td>2018-04-14</td>\n",
       "      <td>Twitter for iPhone</td>\n",
       "      <td>191156</td>\n",
       "      <td>42658</td>\n",
       "      <td>1</td>\n",
       "    </tr>\n",
       "    <tr>\n",
       "      <th>35</th>\n",
       "      <td>Russia vows to shoot down any and all missiles...</td>\n",
       "      <td>140</td>\n",
       "      <td>984022625440747520</td>\n",
       "      <td>2018-04-11</td>\n",
       "      <td>Twitter for iPhone</td>\n",
       "      <td>172421</td>\n",
       "      <td>66938</td>\n",
       "      <td>1</td>\n",
       "    </tr>\n",
       "    <tr>\n",
       "      <th>169</th>\n",
       "      <td>Andrew McCabe FIRED, a great day for the hard ...</td>\n",
       "      <td>140</td>\n",
       "      <td>974859881827258369</td>\n",
       "      <td>2018-03-17</td>\n",
       "      <td>Twitter for iPhone</td>\n",
       "      <td>164884</td>\n",
       "      <td>47925</td>\n",
       "      <td>1</td>\n",
       "    </tr>\n",
       "  </tbody>\n",
       "</table>\n",
       "</div>"
      ],
      "text/plain": [
       "                                                Tweets  len  \\\n",
       "104                                      HAPPY EASTER!   13   \n",
       "121  THE SECOND AMENDMENT WILL NEVER BE REPEALED! A...  140   \n",
       "11   A perfectly executed strike last night. Thank ...  140   \n",
       "35   Russia vows to shoot down any and all missiles...  140   \n",
       "169  Andrew McCabe FIRED, a great day for the hard ...  140   \n",
       "\n",
       "                     ID       Date              Source   Likes    RTs  SA  \n",
       "104  980421275326865409 2018-04-01  Twitter for iPhone  209538  41504   1  \n",
       "121  978932860307505153 2018-03-28  Twitter for iPhone  194115  59183   1  \n",
       "11   985130802668294144 2018-04-14  Twitter for iPhone  191156  42658   1  \n",
       "35   984022625440747520 2018-04-11  Twitter for iPhone  172421  66938   1  \n",
       "169  974859881827258369 2018-03-17  Twitter for iPhone  164884  47925   1  "
      ]
     },
     "execution_count": 141,
     "metadata": {},
     "output_type": "execute_result"
    }
   ],
   "source": [
    "df_positive = data[data['SA']>0].copy()\n",
    "df_positive.sort_values(by='Likes',ascending=False,inplace=True)\n",
    "df_positive.head()"
   ]
  },
  {
   "cell_type": "code",
   "execution_count": 145,
   "metadata": {},
   "outputs": [
    {
     "data": {
      "text/plain": [
       "Tweets    Andrew McCabe FIRED, a great day for the hard ...\n",
       "Name: 169, dtype: object"
      ]
     },
     "execution_count": 145,
     "metadata": {},
     "output_type": "execute_result"
    }
   ],
   "source": [
    "df_positive.loc[169,['Tweets']]"
   ]
  },
  {
   "cell_type": "code",
   "execution_count": null,
   "metadata": {},
   "outputs": [],
   "source": []
  }
 ],
 "metadata": {
  "anaconda-cloud": {},
  "kernelspec": {
   "display_name": "Python [default]",
   "language": "python",
   "name": "python3"
  },
  "language_info": {
   "codemirror_mode": {
    "name": "ipython",
    "version": 3
   },
   "file_extension": ".py",
   "mimetype": "text/x-python",
   "name": "python",
   "nbconvert_exporter": "python",
   "pygments_lexer": "ipython3",
   "version": "3.5.2"
  }
 },
 "nbformat": 4,
 "nbformat_minor": 2
}

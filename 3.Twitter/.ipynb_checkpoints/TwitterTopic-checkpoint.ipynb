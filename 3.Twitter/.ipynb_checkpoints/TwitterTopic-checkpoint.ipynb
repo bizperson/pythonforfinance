{
 "cells": [
  {
   "cell_type": "code",
   "execution_count": 2,
   "metadata": {},
   "outputs": [
    {
     "name": "stdout",
     "output_type": "stream",
     "text": [
      "Connected !\n"
     ]
    }
   ],
   "source": [
    "%run connect_twitter.ipynb"
   ]
  },
  {
   "cell_type": "code",
   "execution_count": 4,
   "metadata": {},
   "outputs": [],
   "source": [
    "# Finding the tweets from Donald Trump\n",
    "name = '@realDonaldTrump'\n",
    "nbr_tweets = 20\n",
    "results = myapi.user_timeline(id=name, count=nbr_tweets)"
   ]
  },
  {
   "cell_type": "code",
   "execution_count": 6,
   "metadata": {},
   "outputs": [
    {
     "name": "stdout",
     "output_type": "stream",
     "text": [
      "2018-03-02 (location:Washington, DC)\n",
      "REST IN PEACE BILLY GRAHAM! https://t.co/2qMoUccVC2\n",
      "2018-03-02 (location:Washington, DC)\n",
      "When a country Taxes our products coming in at, say, 50%, and we Tax the same product coming into our country at ZE… https://t.co/UFVLaWepzN\n",
      "2018-03-02 (location:Washington, DC)\n",
      "We must protect our country and our workers. Our steel industry is in bad shape. IF YOU DON’T HAVE STEEL, YOU DON’T HAVE A COUNTRY!\n",
      "2018-03-02 (location:Washington, DC)\n",
      "Eric, we are all with you and your family! Look forward to seeing you back on T.V. https://t.co/d6y3Q00BSy\n",
      "2018-03-02 (location:Washington, DC)\n",
      "Alec Baldwin, whose dying mediocre career was saved by his terrible impersonation of me on SNL, now says playing me… https://t.co/Ntuy4BRXmJ\n",
      "2018-03-02 (location:Washington, DC)\n",
      "When a country (USA) is losing many billions of dollars on trade with virtually every country it does business with… https://t.co/lPSkkolNRP\n",
      "2018-03-02 (location:Washington, DC)\n",
      "Good (Great) meeting in the Oval Office tonight with the NRA!\n",
      "2018-03-02 (location:Washington, DC)\n",
      "RT @IvankaTrump: My OpEd on the importance of #YouthSports participation and how this Administration is seeking to lift barriers so all our…\n",
      "2018-03-02 (location:Washington, DC)\n",
      "RT @Scavino45: “Trump Comes Through — Saves $1.4 Billion On New Air Force One” https://t.co/cN3TAQywpR\n",
      "2018-03-02 (location:Washington, DC)\n",
      "Manufacturing growing at the fastest pace in almost two decades!\n",
      "2018-03-02 (location:Washington, DC)\n",
      "Jobless claims at a 49 year low!\n",
      "2018-03-01 (location:Washington, DC)\n",
      "Together, we will face this challenge as a national family with conviction, with unity, and with a commitment to lo… https://t.co/7sw39LHddj\n",
      "2018-03-01 (location:Washington, DC)\n",
      "“Consumer Confidence in February Highest Since November 2000” https://t.co/UgAJRawExx\n",
      "2018-03-01 (location:Washington, DC)\n",
      "“Manufacturing in U.S. Expands at Fastest Pace Since May 2004” https://t.co/XZkwS8tTml\n",
      "2018-03-01 (location:Washington, DC)\n",
      "Unemployment filings are at their lowest level in over 48 years. Great news for workers and JOBS, JOBS, JOBS! #MAGA https://t.co/SzHTarzfrW\n",
      "2018-03-01 (location:Washington, DC)\n",
      "Our Steel and Aluminum industries (and many others) have been decimated by decades of unfair trade and bad policy w… https://t.co/OEgFJVYtCs\n",
      "2018-03-01 (location:Washington, DC)\n",
      "Many ideas, some good &amp; some not so good, emerged from our bipartisan meeting on school safety yesterday at the Whi… https://t.co/aJ2m3fH3y3\n",
      "2018-02-28 (location:Washington, DC)\n",
      "It was an honor to welcome bipartisan members of Congress for a discussion on SAFE schools and SAFE communities. As… https://t.co/EPB1EN3HRc\n",
      "2018-02-28 (location:Washington, DC)\n",
      "Today we honor Billy Graham as only three private citizens before him have been honored. \n",
      "\n",
      "We say a prayer for our… https://t.co/CbrnqFwUuZ\n",
      "2018-02-28 (location:Washington, DC)\n",
      "Starting at a small Bible School in Florida, Billy Graham soon led a nationwide revival. From a large tent in Los A… https://t.co/rhhuOssGmf\n"
     ]
    }
   ],
   "source": [
    "# foreach through all tweets pulled\n",
    "for tweet in results:\n",
    "    print(tweet.created_at.strftime('%Y-%m-%d') + ' (location:' + tweet.user.location + ')')\n",
    "    print(tweet.text)"
   ]
  },
  {
   "cell_type": "code",
   "execution_count": null,
   "metadata": {},
   "outputs": [],
   "source": [
    "twee"
   ]
  }
 ],
 "metadata": {
  "kernelspec": {
   "display_name": "Python [default]",
   "language": "python",
   "name": "python3"
  },
  "language_info": {
   "codemirror_mode": {
    "name": "ipython",
    "version": 3
   },
   "file_extension": ".py",
   "mimetype": "text/x-python",
   "name": "python",
   "nbconvert_exporter": "python",
   "pygments_lexer": "ipython3",
   "version": "3.5.2"
  }
 },
 "nbformat": 4,
 "nbformat_minor": 2
}

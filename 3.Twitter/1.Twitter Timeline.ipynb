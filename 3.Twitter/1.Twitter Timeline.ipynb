{
 "cells": [
  {
   "cell_type": "code",
   "execution_count": 2,
   "metadata": {},
   "outputs": [
    {
     "name": "stdout",
     "output_type": "stream",
     "text": [
      "my API Connected !\n"
     ]
    }
   ],
   "source": [
    "%run connect_twitter.ipynb"
   ]
  },
  {
   "cell_type": "code",
   "execution_count": 3,
   "metadata": {},
   "outputs": [],
   "source": [
    "import tweepy\n",
    "import re\n",
    "import webbrowser"
   ]
  },
  {
   "cell_type": "markdown",
   "metadata": {},
   "source": [
    "Collecting the tweets. <br>\n",
    "By default 20 tweets are assembled from the time_line"
   ]
  },
  {
   "cell_type": "code",
   "execution_count": 4,
   "metadata": {},
   "outputs": [
    {
     "name": "stdout",
     "output_type": "stream",
     "text": [
      "nbr tweets: 20\n"
     ]
    }
   ],
   "source": [
    "public_tweets =  myapi.home_timeline()\n",
    "print('nbr tweets:',len(public_tweets[:]))"
   ]
  },
  {
   "cell_type": "markdown",
   "metadata": {},
   "source": [
    "Collecting URL adresses from the feed"
   ]
  },
  {
   "cell_type": "code",
   "execution_count": 5,
   "metadata": {
    "scrolled": true
   },
   "outputs": [
    {
     "name": "stdout",
     "output_type": "stream",
     "text": [
      "2018-04-11 (location:New York, NY)\n",
      "Facebook tracks users on other sites and apps, and collects biometric facial data without the explicit consent of u… https://t.co/ts86wfYdlf \n",
      "\n",
      "2018-04-11 (location:Brussel, België)\n",
      "Google wil betere wifi op het vliegtuig  https://t.co/RD2IUdgvN9 #vrtnws \n",
      "\n",
      "2018-04-11 (location:New York, NY)\n",
      "\"From Exxon's perspective, Qatar is by far its most significant international investment.\" https://t.co/yijR7ZJZQ6… https://t.co/WOHrMttVq9 \n",
      "\n",
      "2018-04-11 (location:Brussels, Belgium)\n",
      "WHO: ‘Vijfhonderd patiënten hadden symptomen chemische aanval’ https://t.co/OQbTfp9TkS https://t.co/M3YF6S2qxZ \n",
      "\n",
      "2018-04-11 (location:Brussels, Belgium)\n",
      "Zo verdient u aan de lenteschoonmaak https://t.co/QilvHZWBNq https://t.co/rnbrXF3NKY \n",
      "\n"
     ]
    }
   ],
   "source": [
    "\n",
    "url_list = []\n",
    "for tweet in public_tweets[0:5]:\n",
    "    print(tweet.created_at.strftime('%Y-%m-%d') + ' (location:' + tweet.user.location + ')')\n",
    "    print(tweet.text,'\\n')\n",
    "    url = re.findall('http[s]?://(?:[a-zA-Z]|[0-9]|[$-_@.&+]|[!*\\(\\),]|(?:%[0-9a-fA-F][0-9a-fA-F]))+', tweet.text)\n",
    "    if url!=[]:\n",
    "        url_list.append(url)"
   ]
  },
  {
   "cell_type": "code",
   "execution_count": 6,
   "metadata": {},
   "outputs": [
    {
     "data": {
      "text/plain": [
       "[['https://t.co/ts86wfYdlf'],\n",
       " ['https://t.co/RD2IUdgvN9'],\n",
       " ['https://t.co/yijR7ZJZQ6', 'https://t.co/WOHrMttVq9'],\n",
       " ['https://t.co/OQbTfp9TkS', 'https://t.co/M3YF6S2qxZ'],\n",
       " ['https://t.co/QilvHZWBNq', 'https://t.co/rnbrXF3NKY']]"
      ]
     },
     "execution_count": 6,
     "metadata": {},
     "output_type": "execute_result"
    }
   ],
   "source": [
    "url_list"
   ]
  },
  {
   "cell_type": "markdown",
   "metadata": {},
   "source": [
    "Open up the first webpage in the list:"
   ]
  },
  {
   "cell_type": "code",
   "execution_count": 7,
   "metadata": {},
   "outputs": [
    {
     "data": {
      "text/plain": [
       "True"
      ]
     },
     "execution_count": 7,
     "metadata": {},
     "output_type": "execute_result"
    }
   ],
   "source": [
    "\n",
    "webbrowser.open(url_list[0][0])"
   ]
  }
 ],
 "metadata": {
  "anaconda-cloud": {},
  "kernelspec": {
   "display_name": "Python [default]",
   "language": "python",
   "name": "python3"
  },
  "language_info": {
   "codemirror_mode": {
    "name": "ipython",
    "version": 3
   },
   "file_extension": ".py",
   "mimetype": "text/x-python",
   "name": "python",
   "nbconvert_exporter": "python",
   "pygments_lexer": "ipython3",
   "version": "3.5.2"
  }
 },
 "nbformat": 4,
 "nbformat_minor": 1
}

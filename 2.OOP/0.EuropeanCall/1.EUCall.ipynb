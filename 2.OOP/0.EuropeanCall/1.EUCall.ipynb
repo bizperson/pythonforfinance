{
 "cells": [
  {
   "cell_type": "code",
   "execution_count": 1,
   "metadata": {},
   "outputs": [],
   "source": [
    "import numpy as np\n",
    "import scipy.stats as sp"
   ]
  },
  {
   "cell_type": "code",
   "execution_count": 2,
   "metadata": {},
   "outputs": [],
   "source": [
    "def eucall(t, s, k, r, q, v):\n",
    "    \"\"\"\n",
    "    eucall calculates the theoretical price of a European call option\n",
    "    t = maturity in years\n",
    "    s = spot price (underlying)\n",
    "    k = strike\n",
    "    r = interest rate (0.05 = 5%)\n",
    "    q = dividend yield (0.02 = 2%)\n",
    "    v = volatility (0.4 = 40%)\n",
    "    \"\"\"\n",
    "    if t <= 0:\n",
    "        return max(s - k, 0)\n",
    "    else:\n",
    "        d1 = (1/(v*np.sqrt(t))) * (np.log(s/k)+ (r-q+0.5*v**2)*t)\n",
    "        d2 = d1 - v*np.sqrt(t)\n",
    "        return s*np.exp(-q*t)*sp.norm().cdf(d1)-sp.norm().cdf(d2)*k*np.exp(-r*t)"
   ]
  },
  {
   "cell_type": "code",
   "execution_count": 3,
   "metadata": {},
   "outputs": [
    {
     "data": {
      "text/plain": [
       "\u001b[0;31mSignature:\u001b[0m \u001b[0meucall\u001b[0m\u001b[0;34m(\u001b[0m\u001b[0mt\u001b[0m\u001b[0;34m,\u001b[0m \u001b[0ms\u001b[0m\u001b[0;34m,\u001b[0m \u001b[0mk\u001b[0m\u001b[0;34m,\u001b[0m \u001b[0mr\u001b[0m\u001b[0;34m,\u001b[0m \u001b[0mq\u001b[0m\u001b[0;34m,\u001b[0m \u001b[0mv\u001b[0m\u001b[0;34m)\u001b[0m\u001b[0;34m\u001b[0m\u001b[0m\n",
       "\u001b[0;31mDocstring:\u001b[0m\n",
       "eucall calculates the theoretical price of a European call option\n",
       "t = maturity in years\n",
       "s = spot price (underlying)\n",
       "k = strike\n",
       "r = interest rate (0.05 = 5%)\n",
       "q = dividend yield (0.02 = 2%)\n",
       "v = volatility (0.4 = 40%)\n",
       "\u001b[0;31mFile:\u001b[0m      ~/FilesJDS/Seminar/KUL/Python for Finance/Exercises/2.OOP/0.EuropeanCall/<ipython-input-2-2c6f6b634ddf>\n",
       "\u001b[0;31mType:\u001b[0m      function\n"
      ]
     },
     "metadata": {},
     "output_type": "display_data"
    }
   ],
   "source": [
    "?eucall"
   ]
  },
  {
   "cell_type": "code",
   "execution_count": null,
   "metadata": {},
   "outputs": [],
   "source": []
  }
 ],
 "metadata": {
  "kernelspec": {
   "display_name": "Python [default]",
   "language": "python",
   "name": "python3"
  },
  "language_info": {
   "codemirror_mode": {
    "name": "ipython",
    "version": 3
   },
   "file_extension": ".py",
   "mimetype": "text/x-python",
   "name": "python",
   "nbconvert_exporter": "python",
   "pygments_lexer": "ipython3",
   "version": "3.5.2"
  }
 },
 "nbformat": 4,
 "nbformat_minor": 2
}

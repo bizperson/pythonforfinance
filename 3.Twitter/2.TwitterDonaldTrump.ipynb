{
 "cells": [
  {
   "cell_type": "code",
   "execution_count": 79,
   "metadata": {},
   "outputs": [
    {
     "name": "stdout",
     "output_type": "stream",
     "text": [
      "my API Connected !\n"
     ]
    }
   ],
   "source": [
    "%run connect_twitter.ipynb"
   ]
  },
  {
   "cell_type": "code",
   "execution_count": 80,
   "metadata": {},
   "outputs": [],
   "source": [
    "import pandas as pd\n",
    "import numpy as np\n",
    "import seaborn as sns\n",
    "import matplotlib.pyplot as plt\n",
    "%matplotlib inline"
   ]
  },
  {
   "cell_type": "markdown",
   "metadata": {},
   "source": [
    "<h3>Gathering Data</h3><br>\n",
    "Find 200 most recent tweets fom user @realDonaldTrump:"
   ]
  },
  {
   "cell_type": "code",
   "execution_count": 112,
   "metadata": {},
   "outputs": [],
   "source": [
    "name = '@realDonaldTrump'\n",
    "nbr_tweets = 400\n",
    "results = myapi.user_timeline(id=name, count=nbr_tweets)"
   ]
  },
  {
   "cell_type": "code",
   "execution_count": 113,
   "metadata": {},
   "outputs": [],
   "source": [
    "data=[tweet.text for tweet in results]\n"
   ]
  },
  {
   "cell_type": "markdown",
   "metadata": {},
   "source": [
    "Assemble the text into a dataframe"
   ]
  },
  {
   "cell_type": "code",
   "execution_count": 114,
   "metadata": {},
   "outputs": [],
   "source": [
    "data = pd.DataFrame(data=[tweet.text for tweet in results],\n",
    "                    columns=['Tweets'])"
   ]
  },
  {
   "cell_type": "code",
   "execution_count": 115,
   "metadata": {},
   "outputs": [
    {
     "data": {
      "text/html": [
       "<div>\n",
       "<style scoped>\n",
       "    .dataframe tbody tr th:only-of-type {\n",
       "        vertical-align: middle;\n",
       "    }\n",
       "\n",
       "    .dataframe tbody tr th {\n",
       "        vertical-align: top;\n",
       "    }\n",
       "\n",
       "    .dataframe thead th {\n",
       "        text-align: right;\n",
       "    }\n",
       "</style>\n",
       "<table border=\"1\" class=\"dataframe\">\n",
       "  <thead>\n",
       "    <tr style=\"text-align: right;\">\n",
       "      <th></th>\n",
       "      <th>Tweets</th>\n",
       "    </tr>\n",
       "  </thead>\n",
       "  <tbody>\n",
       "    <tr>\n",
       "      <th>0</th>\n",
       "      <td>Just hit 50% in the Rasmussen Poll, much highe...</td>\n",
       "    </tr>\n",
       "    <tr>\n",
       "      <th>1</th>\n",
       "      <td>Slippery James Comey, a man who always ends up...</td>\n",
       "    </tr>\n",
       "    <tr>\n",
       "      <th>2</th>\n",
       "      <td>Attorney Client privilege is now a thing of th...</td>\n",
       "    </tr>\n",
       "    <tr>\n",
       "      <th>3</th>\n",
       "      <td>I never asked Comey for Personal Loyalty. I ha...</td>\n",
       "    </tr>\n",
       "    <tr>\n",
       "      <th>4</th>\n",
       "      <td>The Syrian raid was so perfectly carried out, ...</td>\n",
       "    </tr>\n",
       "  </tbody>\n",
       "</table>\n",
       "</div>"
      ],
      "text/plain": [
       "                                              Tweets\n",
       "0  Just hit 50% in the Rasmussen Poll, much highe...\n",
       "1  Slippery James Comey, a man who always ends up...\n",
       "2  Attorney Client privilege is now a thing of th...\n",
       "3  I never asked Comey for Personal Loyalty. I ha...\n",
       "4  The Syrian raid was so perfectly carried out, ..."
      ]
     },
     "execution_count": 115,
     "metadata": {},
     "output_type": "execute_result"
    }
   ],
   "source": [
    "data.head()"
   ]
  },
  {
   "cell_type": "markdown",
   "metadata": {},
   "source": [
    "The interesting part from here is the quantity of metadata contained in a single tweet. If we want to obtain data such as the creation date, or the source of creation, we can access the info with this attributes. An example is the following:"
   ]
  },
  {
   "cell_type": "code",
   "execution_count": 116,
   "metadata": {},
   "outputs": [
    {
     "name": "stdout",
     "output_type": "stream",
     "text": [
      "['__class__', '__delattr__', '__dict__', '__dir__', '__doc__', '__eq__', '__format__', '__ge__', '__getattribute__', '__getstate__', '__gt__', '__hash__', '__init__', '__le__', '__lt__', '__module__', '__ne__', '__new__', '__reduce__', '__reduce_ex__', '__repr__', '__setattr__', '__sizeof__', '__str__', '__subclasshook__', '__weakref__', '_api', '_json', 'author', 'contributors', 'coordinates', 'created_at', 'destroy', 'entities', 'favorite', 'favorite_count', 'favorited', 'geo', 'id', 'id_str', 'in_reply_to_screen_name', 'in_reply_to_status_id', 'in_reply_to_status_id_str', 'in_reply_to_user_id', 'in_reply_to_user_id_str', 'is_quote_status', 'lang', 'parse', 'parse_list', 'place', 'retweet', 'retweet_count', 'retweeted', 'retweets', 'source', 'source_url', 'text', 'truncated', 'user']\n"
     ]
    }
   ],
   "source": [
    "print(dir(results[0]))"
   ]
  },
  {
   "cell_type": "markdown",
   "metadata": {},
   "source": [
    "Getting the meta data from the first tweet in the lsit"
   ]
  },
  {
   "cell_type": "code",
   "execution_count": 117,
   "metadata": {},
   "outputs": [
    {
     "name": "stdout",
     "output_type": "stream",
     "text": [
      "id: 985529299905187840\n",
      "created at: 2018-04-15 14:44:30\n",
      "source: Twitter for iPhone\n",
      "likes: 109358\n",
      "retweets: 23395\n",
      "geo-location: None\n",
      "message: Just hit 50% in the Rasmussen Poll, much higher than President Obama at same point. With all of the phony stories a… https://t.co/J2tMvPcCtK\n"
     ]
    }
   ],
   "source": [
    "print('id:',results[0].id)\n",
    "print('created at:',results[0].created_at)\n",
    "print('source:',results[0].source)\n",
    "print('likes:',results[0].favorite_count)\n",
    "print('retweets:',results[0].retweet_count)\n",
    "print('geo-location:',results[0].geo)\n",
    "print('message:',results[0].text)"
   ]
  },
  {
   "cell_type": "markdown",
   "metadata": {},
   "source": [
    "<h4>Adding more data to the dataframe </h4>"
   ]
  },
  {
   "cell_type": "code",
   "execution_count": 118,
   "metadata": {},
   "outputs": [],
   "source": [
    "data['len']  = np.array([len(tweet.text) for tweet in results])\n",
    "data['ID']   = np.array([tweet.id for tweet in results])\n",
    "data['Date'] = np.array([tweet.created_at for tweet in results])\n",
    "data['Source'] = np.array([tweet.source for tweet in results])\n",
    "data['Likes']  = np.array([tweet.favorite_count for tweet in results])\n",
    "data['RTs']    = np.array([tweet.retweet_count for tweet in results])"
   ]
  },
  {
   "cell_type": "code",
   "execution_count": 119,
   "metadata": {},
   "outputs": [
    {
     "data": {
      "text/html": [
       "<div>\n",
       "<style scoped>\n",
       "    .dataframe tbody tr th:only-of-type {\n",
       "        vertical-align: middle;\n",
       "    }\n",
       "\n",
       "    .dataframe tbody tr th {\n",
       "        vertical-align: top;\n",
       "    }\n",
       "\n",
       "    .dataframe thead th {\n",
       "        text-align: right;\n",
       "    }\n",
       "</style>\n",
       "<table border=\"1\" class=\"dataframe\">\n",
       "  <thead>\n",
       "    <tr style=\"text-align: right;\">\n",
       "      <th></th>\n",
       "      <th>Tweets</th>\n",
       "      <th>len</th>\n",
       "      <th>ID</th>\n",
       "      <th>Date</th>\n",
       "      <th>Source</th>\n",
       "      <th>Likes</th>\n",
       "      <th>RTs</th>\n",
       "    </tr>\n",
       "  </thead>\n",
       "  <tbody>\n",
       "    <tr>\n",
       "      <th>0</th>\n",
       "      <td>Just hit 50% in the Rasmussen Poll, much highe...</td>\n",
       "      <td>140</td>\n",
       "      <td>985529299905187840</td>\n",
       "      <td>2018-04-15 14:44:30</td>\n",
       "      <td>Twitter for iPhone</td>\n",
       "      <td>109358</td>\n",
       "      <td>23395</td>\n",
       "    </tr>\n",
       "    <tr>\n",
       "      <th>1</th>\n",
       "      <td>Slippery James Comey, a man who always ends up...</td>\n",
       "      <td>140</td>\n",
       "      <td>985504808646971392</td>\n",
       "      <td>2018-04-15 13:07:10</td>\n",
       "      <td>Twitter for iPhone</td>\n",
       "      <td>78612</td>\n",
       "      <td>18186</td>\n",
       "    </tr>\n",
       "    <tr>\n",
       "      <th>2</th>\n",
       "      <td>Attorney Client privilege is now a thing of th...</td>\n",
       "      <td>140</td>\n",
       "      <td>985502053345751040</td>\n",
       "      <td>2018-04-15 12:56:13</td>\n",
       "      <td>Twitter for iPhone</td>\n",
       "      <td>83876</td>\n",
       "      <td>20163</td>\n",
       "    </tr>\n",
       "    <tr>\n",
       "      <th>3</th>\n",
       "      <td>I never asked Comey for Personal Loyalty. I ha...</td>\n",
       "      <td>140</td>\n",
       "      <td>985496023555608576</td>\n",
       "      <td>2018-04-15 12:32:16</td>\n",
       "      <td>Twitter for iPhone</td>\n",
       "      <td>82106</td>\n",
       "      <td>18738</td>\n",
       "    </tr>\n",
       "    <tr>\n",
       "      <th>4</th>\n",
       "      <td>The Syrian raid was so perfectly carried out, ...</td>\n",
       "      <td>140</td>\n",
       "      <td>985492862958698497</td>\n",
       "      <td>2018-04-15 12:19:42</td>\n",
       "      <td>Twitter for iPhone</td>\n",
       "      <td>94651</td>\n",
       "      <td>20509</td>\n",
       "    </tr>\n",
       "  </tbody>\n",
       "</table>\n",
       "</div>"
      ],
      "text/plain": [
       "                                              Tweets  len                  ID  \\\n",
       "0  Just hit 50% in the Rasmussen Poll, much highe...  140  985529299905187840   \n",
       "1  Slippery James Comey, a man who always ends up...  140  985504808646971392   \n",
       "2  Attorney Client privilege is now a thing of th...  140  985502053345751040   \n",
       "3  I never asked Comey for Personal Loyalty. I ha...  140  985496023555608576   \n",
       "4  The Syrian raid was so perfectly carried out, ...  140  985492862958698497   \n",
       "\n",
       "                 Date              Source   Likes    RTs  \n",
       "0 2018-04-15 14:44:30  Twitter for iPhone  109358  23395  \n",
       "1 2018-04-15 13:07:10  Twitter for iPhone   78612  18186  \n",
       "2 2018-04-15 12:56:13  Twitter for iPhone   83876  20163  \n",
       "3 2018-04-15 12:32:16  Twitter for iPhone   82106  18738  \n",
       "4 2018-04-15 12:19:42  Twitter for iPhone   94651  20509  "
      ]
     },
     "execution_count": 119,
     "metadata": {},
     "output_type": "execute_result"
    }
   ],
   "source": [
    "data.head()"
   ]
  },
  {
   "cell_type": "markdown",
   "metadata": {},
   "source": [
    "<h3>Interpretation of the data</h3>"
   ]
  },
  {
   "cell_type": "code",
   "execution_count": 120,
   "metadata": {},
   "outputs": [],
   "source": [
    "likes_max = np.max(data['Likes'])\n",
    "retweet_max  = np.max(data['RTs'])"
   ]
  },
  {
   "cell_type": "code",
   "execution_count": 121,
   "metadata": {},
   "outputs": [],
   "source": [
    "likes = data[data['Likes'] == likes_max].index[0]\n",
    "retweets  = data[data.RTs == retweet_max].index[0]"
   ]
  },
  {
   "cell_type": "code",
   "execution_count": 122,
   "metadata": {},
   "outputs": [
    {
     "data": {
      "text/plain": [
       "148"
      ]
     },
     "execution_count": 122,
     "metadata": {},
     "output_type": "execute_result"
    }
   ],
   "source": [
    "retweets"
   ]
  },
  {
   "cell_type": "code",
   "execution_count": 123,
   "metadata": {},
   "outputs": [
    {
     "name": "stdout",
     "output_type": "stream",
     "text": [
      "The tweet with most likes is: \n",
      "Crazy Joe Biden is trying to act like a tough guy. Actually, he is weak, both mentally and physically, and yet he t… https://t.co/4e33ZxnAw7\n",
      "Number of likes: 257953\n",
      "140 characters.\n",
      "Tweeted at 2018-03-22 10:19:57\n"
     ]
    }
   ],
   "source": [
    "# Max FAVs:\n",
    "print(\"The tweet with most likes is: \\n{}\".format(data['Tweets'][likes]))\n",
    "print(\"Number of likes: {}\".format(likes_max))\n",
    "print(\"{} characters.\".format(data['len'][likes]))\n",
    "print(\"Tweeted at {s}\".format(s=data['Date'][likes]))"
   ]
  },
  {
   "cell_type": "code",
   "execution_count": 124,
   "metadata": {},
   "outputs": [
    {
     "data": {
      "text/html": [
       "<div>\n",
       "<style scoped>\n",
       "    .dataframe tbody tr th:only-of-type {\n",
       "        vertical-align: middle;\n",
       "    }\n",
       "\n",
       "    .dataframe tbody tr th {\n",
       "        vertical-align: top;\n",
       "    }\n",
       "\n",
       "    .dataframe thead th {\n",
       "        text-align: right;\n",
       "    }\n",
       "</style>\n",
       "<table border=\"1\" class=\"dataframe\">\n",
       "  <thead>\n",
       "    <tr style=\"text-align: right;\">\n",
       "      <th></th>\n",
       "      <th>Tweets</th>\n",
       "      <th>len</th>\n",
       "      <th>ID</th>\n",
       "      <th>Date</th>\n",
       "      <th>Source</th>\n",
       "      <th>Likes</th>\n",
       "      <th>RTs</th>\n",
       "    </tr>\n",
       "  </thead>\n",
       "  <tbody>\n",
       "    <tr>\n",
       "      <th>148</th>\n",
       "      <td>Crazy Joe Biden is trying to act like a tough ...</td>\n",
       "      <td>140</td>\n",
       "      <td>976765417908776963</td>\n",
       "      <td>2018-03-22 10:19:57</td>\n",
       "      <td>Twitter for iPhone</td>\n",
       "      <td>257953</td>\n",
       "      <td>75550</td>\n",
       "    </tr>\n",
       "    <tr>\n",
       "      <th>104</th>\n",
       "      <td>HAPPY EASTER!</td>\n",
       "      <td>13</td>\n",
       "      <td>980421275326865409</td>\n",
       "      <td>2018-04-01 12:27:02</td>\n",
       "      <td>Twitter for iPhone</td>\n",
       "      <td>209538</td>\n",
       "      <td>41504</td>\n",
       "    </tr>\n",
       "    <tr>\n",
       "      <th>121</th>\n",
       "      <td>THE SECOND AMENDMENT WILL NEVER BE REPEALED! A...</td>\n",
       "      <td>140</td>\n",
       "      <td>978932860307505153</td>\n",
       "      <td>2018-03-28 09:52:36</td>\n",
       "      <td>Twitter for iPhone</td>\n",
       "      <td>194115</td>\n",
       "      <td>59183</td>\n",
       "    </tr>\n",
       "    <tr>\n",
       "      <th>11</th>\n",
       "      <td>A perfectly executed strike last night. Thank ...</td>\n",
       "      <td>140</td>\n",
       "      <td>985130802668294144</td>\n",
       "      <td>2018-04-14 12:21:00</td>\n",
       "      <td>Twitter for iPhone</td>\n",
       "      <td>191156</td>\n",
       "      <td>42658</td>\n",
       "    </tr>\n",
       "  </tbody>\n",
       "</table>\n",
       "</div>"
      ],
      "text/plain": [
       "                                                Tweets  len  \\\n",
       "148  Crazy Joe Biden is trying to act like a tough ...  140   \n",
       "104                                      HAPPY EASTER!   13   \n",
       "121  THE SECOND AMENDMENT WILL NEVER BE REPEALED! A...  140   \n",
       "11   A perfectly executed strike last night. Thank ...  140   \n",
       "\n",
       "                     ID                Date              Source   Likes    RTs  \n",
       "148  976765417908776963 2018-03-22 10:19:57  Twitter for iPhone  257953  75550  \n",
       "104  980421275326865409 2018-04-01 12:27:02  Twitter for iPhone  209538  41504  \n",
       "121  978932860307505153 2018-03-28 09:52:36  Twitter for iPhone  194115  59183  \n",
       "11   985130802668294144 2018-04-14 12:21:00  Twitter for iPhone  191156  42658  "
      ]
     },
     "execution_count": 124,
     "metadata": {},
     "output_type": "execute_result"
    }
   ],
   "source": [
    "data.sort_values(by='Likes',ascending=False).head(4)"
   ]
  },
  {
   "cell_type": "markdown",
   "metadata": {},
   "source": [
    "<h3>Making Graphs</h3>"
   ]
  },
  {
   "cell_type": "code",
   "execution_count": 125,
   "metadata": {},
   "outputs": [
    {
     "data": {
      "text/plain": [
       "pandas.core.series.Series"
      ]
     },
     "execution_count": 125,
     "metadata": {},
     "output_type": "execute_result"
    }
   ],
   "source": [
    "t_likes = pd.Series(data=data['Likes'].values, index=data['Date'])\n",
    "type(t_likes)"
   ]
  },
  {
   "cell_type": "code",
   "execution_count": 126,
   "metadata": {},
   "outputs": [],
   "source": [
    "t_retweets = pd.Series(data=data['RTs'].values, index=data['Date'])"
   ]
  },
  {
   "cell_type": "code",
   "execution_count": 127,
   "metadata": {},
   "outputs": [
    {
     "data": {
      "image/png": "[encoded data removed]",
      "text/plain": [
       "<matplotlib.figure.Figure at 0x11d234f60>"
      ]
     },
     "metadata": {},
     "output_type": "display_data"
    }
   ],
   "source": [
    "t_likes.plot(title='Donald Trump',\n",
    "             figsize=(12,6),\n",
    "             legend=True,\n",
    "             label='Likes');\n",
    "t_retweets.plot(legend=True,label='Retweets');"
   ]
  },
  {
   "cell_type": "markdown",
   "metadata": {},
   "source": [
    "<h3>Sentiment Analysis of the Tweets</h3>"
   ]
  },
  {
   "cell_type": "code",
   "execution_count": 128,
   "metadata": {},
   "outputs": [],
   "source": [
    "from textblob import TextBlob\n",
    "import re"
   ]
  },
  {
   "cell_type": "markdown",
   "metadata": {},
   "source": [
    "Define 2 different utility functions"
   ]
  },
  {
   "cell_type": "code",
   "execution_count": 129,
   "metadata": {},
   "outputs": [],
   "source": [
    "def clean_tweet(tweet):\n",
    "    '''\n",
    "    Utility function to clean the text in a tweet by removing \n",
    "    links and special characters using regex.\n",
    "    '''\n",
    "    return ' '.join(re.sub(\"(@[A-Za-z0-9]+)|([^0-9A-Za-z \\t])|(\\w+:\\/\\/\\S+)\", \" \", tweet).split())\n",
    "\n",
    "def analyze_sentiment(tweet):\n",
    "    '''\n",
    "    Utility function to classify the polarity of a tweet\n",
    "    using textblob.\n",
    "    '''\n",
    "    #analysis = TextBlob(clean_tweet(tweet))\n",
    "    analysis = TextBlob(tweet)\n",
    "    if analysis.sentiment.polarity > 0:\n",
    "        return 1\n",
    "    elif analysis.sentiment.polarity == 0:\n",
    "        return 0\n",
    "    else:\n",
    "        return -1"
   ]
  },
  {
   "cell_type": "code",
   "execution_count": 130,
   "metadata": {},
   "outputs": [],
   "source": [
    "x  = [ analyze_sentiment(tweet) for tweet in data['Tweets'] ]"
   ]
  },
  {
   "cell_type": "code",
   "execution_count": 131,
   "metadata": {},
   "outputs": [],
   "source": [
    "data['SA'] = np.array(x)"
   ]
  },
  {
   "cell_type": "code",
   "execution_count": 132,
   "metadata": {},
   "outputs": [
    {
     "data": {
      "text/html": [
       "<div>\n",
       "<style scoped>\n",
       "    .dataframe tbody tr th:only-of-type {\n",
       "        vertical-align: middle;\n",
       "    }\n",
       "\n",
       "    .dataframe tbody tr th {\n",
       "        vertical-align: top;\n",
       "    }\n",
       "\n",
       "    .dataframe thead th {\n",
       "        text-align: right;\n",
       "    }\n",
       "</style>\n",
       "<table border=\"1\" class=\"dataframe\">\n",
       "  <thead>\n",
       "    <tr style=\"text-align: right;\">\n",
       "      <th></th>\n",
       "      <th>Tweets</th>\n",
       "      <th>len</th>\n",
       "      <th>ID</th>\n",
       "      <th>Date</th>\n",
       "      <th>Source</th>\n",
       "      <th>Likes</th>\n",
       "      <th>RTs</th>\n",
       "      <th>SA</th>\n",
       "    </tr>\n",
       "  </thead>\n",
       "  <tbody>\n",
       "    <tr>\n",
       "      <th>0</th>\n",
       "      <td>Just hit 50% in the Rasmussen Poll, much highe...</td>\n",
       "      <td>140</td>\n",
       "      <td>985529299905187840</td>\n",
       "      <td>2018-04-15 14:44:30</td>\n",
       "      <td>Twitter for iPhone</td>\n",
       "      <td>109358</td>\n",
       "      <td>23395</td>\n",
       "      <td>1</td>\n",
       "    </tr>\n",
       "    <tr>\n",
       "      <th>1</th>\n",
       "      <td>Slippery James Comey, a man who always ends up...</td>\n",
       "      <td>140</td>\n",
       "      <td>985504808646971392</td>\n",
       "      <td>2018-04-15 13:07:10</td>\n",
       "      <td>Twitter for iPhone</td>\n",
       "      <td>78612</td>\n",
       "      <td>18186</td>\n",
       "      <td>-1</td>\n",
       "    </tr>\n",
       "    <tr>\n",
       "      <th>2</th>\n",
       "      <td>Attorney Client privilege is now a thing of th...</td>\n",
       "      <td>140</td>\n",
       "      <td>985502053345751040</td>\n",
       "      <td>2018-04-15 12:56:13</td>\n",
       "      <td>Twitter for iPhone</td>\n",
       "      <td>83876</td>\n",
       "      <td>20163</td>\n",
       "      <td>1</td>\n",
       "    </tr>\n",
       "    <tr>\n",
       "      <th>3</th>\n",
       "      <td>I never asked Comey for Personal Loyalty. I ha...</td>\n",
       "      <td>140</td>\n",
       "      <td>985496023555608576</td>\n",
       "      <td>2018-04-15 12:32:16</td>\n",
       "      <td>Twitter for iPhone</td>\n",
       "      <td>82106</td>\n",
       "      <td>18738</td>\n",
       "      <td>-1</td>\n",
       "    </tr>\n",
       "    <tr>\n",
       "      <th>4</th>\n",
       "      <td>The Syrian raid was so perfectly carried out, ...</td>\n",
       "      <td>140</td>\n",
       "      <td>985492862958698497</td>\n",
       "      <td>2018-04-15 12:19:42</td>\n",
       "      <td>Twitter for iPhone</td>\n",
       "      <td>94651</td>\n",
       "      <td>20509</td>\n",
       "      <td>1</td>\n",
       "    </tr>\n",
       "  </tbody>\n",
       "</table>\n",
       "</div>"
      ],
      "text/plain": [
       "                                              Tweets  len                  ID  \\\n",
       "0  Just hit 50% in the Rasmussen Poll, much highe...  140  985529299905187840   \n",
       "1  Slippery James Comey, a man who always ends up...  140  985504808646971392   \n",
       "2  Attorney Client privilege is now a thing of th...  140  985502053345751040   \n",
       "3  I never asked Comey for Personal Loyalty. I ha...  140  985496023555608576   \n",
       "4  The Syrian raid was so perfectly carried out, ...  140  985492862958698497   \n",
       "\n",
       "                 Date              Source   Likes    RTs  SA  \n",
       "0 2018-04-15 14:44:30  Twitter for iPhone  109358  23395   1  \n",
       "1 2018-04-15 13:07:10  Twitter for iPhone   78612  18186  -1  \n",
       "2 2018-04-15 12:56:13  Twitter for iPhone   83876  20163   1  \n",
       "3 2018-04-15 12:32:16  Twitter for iPhone   82106  18738  -1  \n",
       "4 2018-04-15 12:19:42  Twitter for iPhone   94651  20509   1  "
      ]
     },
     "execution_count": 132,
     "metadata": {},
     "output_type": "execute_result"
    }
   ],
   "source": [
    "data.sort_values(by='Date',ascending=False,inplace=True)\n",
    "data.head()"
   ]
  },
  {
   "cell_type": "markdown",
   "metadata": {},
   "source": [
    "The time has to be removed from the date"
   ]
  },
  {
   "cell_type": "code",
   "execution_count": 133,
   "metadata": {},
   "outputs": [
    {
     "data": {
      "text/html": [
       "<div>\n",
       "<style scoped>\n",
       "    .dataframe tbody tr th:only-of-type {\n",
       "        vertical-align: middle;\n",
       "    }\n",
       "\n",
       "    .dataframe tbody tr th {\n",
       "        vertical-align: top;\n",
       "    }\n",
       "\n",
       "    .dataframe thead th {\n",
       "        text-align: right;\n",
       "    }\n",
       "</style>\n",
       "<table border=\"1\" class=\"dataframe\">\n",
       "  <thead>\n",
       "    <tr style=\"text-align: right;\">\n",
       "      <th></th>\n",
       "      <th>len</th>\n",
       "      <th>ID</th>\n",
       "      <th>Likes</th>\n",
       "      <th>RTs</th>\n",
       "      <th>SA</th>\n",
       "      <th>mood</th>\n",
       "    </tr>\n",
       "    <tr>\n",
       "      <th>Date</th>\n",
       "      <th></th>\n",
       "      <th></th>\n",
       "      <th></th>\n",
       "      <th></th>\n",
       "      <th></th>\n",
       "      <th></th>\n",
       "    </tr>\n",
       "  </thead>\n",
       "  <tbody>\n",
       "    <tr>\n",
       "      <th>2018-03-12</th>\n",
       "      <td>418.0</td>\n",
       "      <td>2.919714e+18</td>\n",
       "      <td>206024.0</td>\n",
       "      <td>46461.0</td>\n",
       "      <td>3.0</td>\n",
       "      <td>NaN</td>\n",
       "    </tr>\n",
       "    <tr>\n",
       "      <th>2018-03-13</th>\n",
       "      <td>916.0</td>\n",
       "      <td>6.814853e+18</td>\n",
       "      <td>738824.0</td>\n",
       "      <td>199823.0</td>\n",
       "      <td>-1.0</td>\n",
       "      <td>NaN</td>\n",
       "    </tr>\n",
       "    <tr>\n",
       "      <th>2018-03-14</th>\n",
       "      <td>1156.0</td>\n",
       "      <td>9.739292e+18</td>\n",
       "      <td>729939.0</td>\n",
       "      <td>159888.0</td>\n",
       "      <td>6.0</td>\n",
       "      <td>NaN</td>\n",
       "    </tr>\n",
       "    <tr>\n",
       "      <th>2018-03-15</th>\n",
       "      <td>799.0</td>\n",
       "      <td>5.845765e+18</td>\n",
       "      <td>398208.0</td>\n",
       "      <td>88811.0</td>\n",
       "      <td>4.0</td>\n",
       "      <td>NaN</td>\n",
       "    </tr>\n",
       "    <tr>\n",
       "      <th>2018-03-16</th>\n",
       "      <td>487.0</td>\n",
       "      <td>3.898505e+18</td>\n",
       "      <td>311111.0</td>\n",
       "      <td>65172.0</td>\n",
       "      <td>3.0</td>\n",
       "      <td>15.0</td>\n",
       "    </tr>\n",
       "  </tbody>\n",
       "</table>\n",
       "</div>"
      ],
      "text/plain": [
       "               len            ID     Likes       RTs   SA  mood\n",
       "Date                                                           \n",
       "2018-03-12   418.0  2.919714e+18  206024.0   46461.0  3.0   NaN\n",
       "2018-03-13   916.0  6.814853e+18  738824.0  199823.0 -1.0   NaN\n",
       "2018-03-14  1156.0  9.739292e+18  729939.0  159888.0  6.0   NaN\n",
       "2018-03-15   799.0  5.845765e+18  398208.0   88811.0  4.0   NaN\n",
       "2018-03-16   487.0  3.898505e+18  311111.0   65172.0  3.0  15.0"
      ]
     },
     "execution_count": 133,
     "metadata": {},
     "output_type": "execute_result"
    }
   ],
   "source": [
    "df.head()"
   ]
  },
  {
   "cell_type": "code",
   "execution_count": 134,
   "metadata": {},
   "outputs": [],
   "source": [
    "data['Date']=data['Date'].apply(lambda x : pd.to_datetime(pd.to_datetime(x).strftime('%Y%m%d')))"
   ]
  },
  {
   "cell_type": "code",
   "execution_count": 135,
   "metadata": {},
   "outputs": [],
   "source": [
    "df = data.groupby('Date').sum()"
   ]
  },
  {
   "cell_type": "code",
   "execution_count": 136,
   "metadata": {},
   "outputs": [
    {
     "data": {
      "text/html": [
       "<div>\n",
       "<style scoped>\n",
       "    .dataframe tbody tr th:only-of-type {\n",
       "        vertical-align: middle;\n",
       "    }\n",
       "\n",
       "    .dataframe tbody tr th {\n",
       "        vertical-align: top;\n",
       "    }\n",
       "\n",
       "    .dataframe thead th {\n",
       "        text-align: right;\n",
       "    }\n",
       "</style>\n",
       "<table border=\"1\" class=\"dataframe\">\n",
       "  <thead>\n",
       "    <tr style=\"text-align: right;\">\n",
       "      <th></th>\n",
       "      <th>len</th>\n",
       "      <th>ID</th>\n",
       "      <th>Likes</th>\n",
       "      <th>RTs</th>\n",
       "      <th>SA</th>\n",
       "    </tr>\n",
       "    <tr>\n",
       "      <th>Date</th>\n",
       "      <th></th>\n",
       "      <th></th>\n",
       "      <th></th>\n",
       "      <th></th>\n",
       "      <th></th>\n",
       "    </tr>\n",
       "  </thead>\n",
       "  <tbody>\n",
       "    <tr>\n",
       "      <th>2018-03-12</th>\n",
       "      <td>418.0</td>\n",
       "      <td>2.919714e+18</td>\n",
       "      <td>206024.0</td>\n",
       "      <td>46461.0</td>\n",
       "      <td>3.0</td>\n",
       "    </tr>\n",
       "    <tr>\n",
       "      <th>2018-03-13</th>\n",
       "      <td>916.0</td>\n",
       "      <td>6.814853e+18</td>\n",
       "      <td>738824.0</td>\n",
       "      <td>199823.0</td>\n",
       "      <td>-1.0</td>\n",
       "    </tr>\n",
       "    <tr>\n",
       "      <th>2018-03-14</th>\n",
       "      <td>1156.0</td>\n",
       "      <td>9.739292e+18</td>\n",
       "      <td>729939.0</td>\n",
       "      <td>159888.0</td>\n",
       "      <td>6.0</td>\n",
       "    </tr>\n",
       "    <tr>\n",
       "      <th>2018-03-15</th>\n",
       "      <td>799.0</td>\n",
       "      <td>5.845765e+18</td>\n",
       "      <td>398208.0</td>\n",
       "      <td>88811.0</td>\n",
       "      <td>4.0</td>\n",
       "    </tr>\n",
       "    <tr>\n",
       "      <th>2018-03-16</th>\n",
       "      <td>487.0</td>\n",
       "      <td>3.898505e+18</td>\n",
       "      <td>311111.0</td>\n",
       "      <td>65172.0</td>\n",
       "      <td>3.0</td>\n",
       "    </tr>\n",
       "  </tbody>\n",
       "</table>\n",
       "</div>"
      ],
      "text/plain": [
       "               len            ID     Likes       RTs   SA\n",
       "Date                                                     \n",
       "2018-03-12   418.0  2.919714e+18  206024.0   46461.0  3.0\n",
       "2018-03-13   916.0  6.814853e+18  738824.0  199823.0 -1.0\n",
       "2018-03-14  1156.0  9.739292e+18  729939.0  159888.0  6.0\n",
       "2018-03-15   799.0  5.845765e+18  398208.0   88811.0  4.0\n",
       "2018-03-16   487.0  3.898505e+18  311111.0   65172.0  3.0"
      ]
     },
     "execution_count": 136,
     "metadata": {},
     "output_type": "execute_result"
    }
   ],
   "source": [
    "df.head()"
   ]
  },
  {
   "cell_type": "code",
   "execution_count": 137,
   "metadata": {},
   "outputs": [],
   "source": [
    "df['mood']= df['SA'].rolling(window=5).apply(lambda x : np.sum(x))"
   ]
  },
  {
   "cell_type": "code",
   "execution_count": 138,
   "metadata": {},
   "outputs": [
    {
     "data": {
      "image/png": "[encoded data removed]",
      "text/plain": [
       "<matplotlib.figure.Figure at 0x11cc9b9e8>"
      ]
     },
     "metadata": {},
     "output_type": "display_data"
    }
   ],
   "source": [
    "fig = plt.subplots(1,1,figsize=(14,8))\n",
    "plt.plot(df.index,df['mood'])\n",
    "plt.title('The Mood of the President',fontsize=14);"
   ]
  },
  {
   "cell_type": "code",
   "execution_count": 139,
   "metadata": {},
   "outputs": [],
   "source": [
    "pos_tweets = [ tweet for index,tweet in enumerate(data['Tweets']) if data['SA'][index] > 0]\n",
    "neu_tweets = [ tweet for index, tweet in enumerate(data['Tweets']) if data['SA'][index] == 0]\n",
    "neg_tweets = [ tweet for index, tweet in enumerate(data['Tweets']) if data['SA'][index] < 0]"
   ]
  },
  {
   "cell_type": "code",
   "execution_count": 140,
   "metadata": {},
   "outputs": [
    {
     "name": "stdout",
     "output_type": "stream",
     "text": [
      "99\n",
      "52\n",
      "49\n"
     ]
    }
   ],
   "source": [
    "print(len(pos_tweets))\n",
    "print(len(neu_tweets))\n",
    "print(len(neg_tweets))"
   ]
  },
  {
   "cell_type": "markdown",
   "metadata": {},
   "source": [
    "<h4>Most Liked positive tweet</h4>"
   ]
  },
  {
   "cell_type": "code",
   "execution_count": 141,
   "metadata": {},
   "outputs": [
    {
     "data": {
      "text/html": [
       "<div>\n",
       "<style scoped>\n",
       "    .dataframe tbody tr th:only-of-type {\n",
       "        vertical-align: middle;\n",
       "    }\n",
       "\n",
       "    .dataframe tbody tr th {\n",
       "        vertical-align: top;\n",
       "    }\n",
       "\n",
       "    .dataframe thead th {\n",
       "        text-align: right;\n",
       "    }\n",
       "</style>\n",
       "<table border=\"1\" class=\"dataframe\">\n",
       "  <thead>\n",
       "    <tr style=\"text-align: right;\">\n",
       "      <th></th>\n",
       "      <th>Tweets</th>\n",
       "      <th>len</th>\n",
       "      <th>ID</th>\n",
       "      <th>Date</th>\n",
       "      <th>Source</th>\n",
       "      <th>Likes</th>\n",
       "      <th>RTs</th>\n",
       "      <th>SA</th>\n",
       "    </tr>\n",
       "  </thead>\n",
       "  <tbody>\n",
       "    <tr>\n",
       "      <th>104</th>\n",
       "      <td>HAPPY EASTER!</td>\n",
       "      <td>13</td>\n",
       "      <td>980421275326865409</td>\n",
       "      <td>2018-04-01</td>\n",
       "      <td>Twitter for iPhone</td>\n",
       "      <td>209538</td>\n",
       "      <td>41504</td>\n",
       "      <td>1</td>\n",
       "    </tr>\n",
       "    <tr>\n",
       "      <th>121</th>\n",
       "      <td>THE SECOND AMENDMENT WILL NEVER BE REPEALED! A...</td>\n",
       "      <td>140</td>\n",
       "      <td>978932860307505153</td>\n",
       "      <td>2018-03-28</td>\n",
       "      <td>Twitter for iPhone</td>\n",
       "      <td>194115</td>\n",
       "      <td>59183</td>\n",
       "      <td>1</td>\n",
       "    </tr>\n",
       "    <tr>\n",
       "      <th>11</th>\n",
       "      <td>A perfectly executed strike last night. Thank ...</td>\n",
       "      <td>140</td>\n",
       "      <td>985130802668294144</td>\n",
       "      <td>2018-04-14</td>\n",
       "      <td>Twitter for iPhone</td>\n",
       "      <td>191156</td>\n",
       "      <td>42658</td>\n",
       "      <td>1</td>\n",
       "    </tr>\n",
       "    <tr>\n",
       "      <th>35</th>\n",
       "      <td>Russia vows to shoot down any and all missiles...</td>\n",
       "      <td>140</td>\n",
       "      <td>984022625440747520</td>\n",
       "      <td>2018-04-11</td>\n",
       "      <td>Twitter for iPhone</td>\n",
       "      <td>172421</td>\n",
       "      <td>66938</td>\n",
       "      <td>1</td>\n",
       "    </tr>\n",
       "    <tr>\n",
       "      <th>169</th>\n",
       "      <td>Andrew McCabe FIRED, a great day for the hard ...</td>\n",
       "      <td>140</td>\n",
       "      <td>974859881827258369</td>\n",
       "      <td>2018-03-17</td>\n",
       "      <td>Twitter for iPhone</td>\n",
       "      <td>164884</td>\n",
       "      <td>47925</td>\n",
       "      <td>1</td>\n",
       "    </tr>\n",
       "  </tbody>\n",
       "</table>\n",
       "</div>"
      ],
      "text/plain": [
       "                                                Tweets  len  \\\n",
       "104                                      HAPPY EASTER!   13   \n",
       "121  THE SECOND AMENDMENT WILL NEVER BE REPEALED! A...  140   \n",
       "11   A perfectly executed strike last night. Thank ...  140   \n",
       "35   Russia vows to shoot down any and all missiles...  140   \n",
       "169  Andrew McCabe FIRED, a great day for the hard ...  140   \n",
       "\n",
       "                     ID       Date              Source   Likes    RTs  SA  \n",
       "104  980421275326865409 2018-04-01  Twitter for iPhone  209538  41504   1  \n",
       "121  978932860307505153 2018-03-28  Twitter for iPhone  194115  59183   1  \n",
       "11   985130802668294144 2018-04-14  Twitter for iPhone  191156  42658   1  \n",
       "35   984022625440747520 2018-04-11  Twitter for iPhone  172421  66938   1  \n",
       "169  974859881827258369 2018-03-17  Twitter for iPhone  164884  47925   1  "
      ]
     },
     "execution_count": 141,
     "metadata": {},
     "output_type": "execute_result"
    }
   ],
   "source": [
    "df_positive = data[data['SA']>0].copy()\n",
    "df_positive.sort_values(by='Likes',ascending=False,inplace=True)\n",
    "df_positive.head()"
   ]
  },
  {
   "cell_type": "code",
   "execution_count": 145,
   "metadata": {},
   "outputs": [
    {
     "data": {
      "text/plain": [
       "Tweets    Andrew McCabe FIRED, a great day for the hard ...\n",
       "Name: 169, dtype: object"
      ]
     },
     "execution_count": 145,
     "metadata": {},
     "output_type": "execute_result"
    }
   ],
   "source": [
    "df_positive.loc[169,['Tweets']]"
   ]
  },
  {
   "cell_type": "code",
   "execution_count": null,
   "metadata": {},
   "outputs": [],
   "source": []
  }
 ],
 "metadata": {
  "anaconda-cloud": {},
  "kernelspec": {
   "display_name": "Python [default]",
   "language": "python",
   "name": "python3"
  },
  "language_info": {
   "codemirror_mode": {
    "name": "ipython",
    "version": 3
   },
   "file_extension": ".py",
   "mimetype": "text/x-python",
   "name": "python",
   "nbconvert_exporter": "python",
   "pygments_lexer": "ipython3",
   "version": "3.5.2"
  }
 },
 "nbformat": 4,
 "nbformat_minor": 2
}

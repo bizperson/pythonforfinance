{
 "cells": [
  {
   "cell_type": "code",
   "execution_count": 29,
   "metadata": {},
   "outputs": [],
   "source": [
    "import numpy as np\n",
    "import pandas as pd\n",
    "import seaborn as sns\n",
    "import matplotlib.pyplot as plt \n",
    "import statsmodels.api as sm\n",
    "%matplotlib inline"
   ]
  },
  {
   "cell_type": "markdown",
   "metadata": {},
   "source": [
    "Collecting data on a different companies (realised volatility, cashflow to debt ratio and default risk status)"
   ]
  },
  {
   "cell_type": "code",
   "execution_count": 19,
   "metadata": {},
   "outputs": [],
   "source": [
    "df=pd.read_csv('../Data/DataKDE.csv')"
   ]
  },
  {
   "cell_type": "code",
   "execution_count": 20,
   "metadata": {},
   "outputs": [
    {
     "name": "stdout",
     "output_type": "stream",
     "text": [
      "There are  482  companies in the dataset\n",
      "A sample:\n"
     ]
    },
    {
     "data": {
      "text/html": [
       "<div>\n",
       "<style scoped>\n",
       "    .dataframe tbody tr th:only-of-type {\n",
       "        vertical-align: middle;\n",
       "    }\n",
       "\n",
       "    .dataframe tbody tr th {\n",
       "        vertical-align: top;\n",
       "    }\n",
       "\n",
       "    .dataframe thead th {\n",
       "        text-align: right;\n",
       "    }\n",
       "</style>\n",
       "<table border=\"1\" class=\"dataframe\">\n",
       "  <thead>\n",
       "    <tr style=\"text-align: right;\">\n",
       "      <th></th>\n",
       "      <th>Name</th>\n",
       "      <th>Realised 1yr Vol</th>\n",
       "      <th>CF2Debt Ratio</th>\n",
       "      <th>DefaultRisk</th>\n",
       "    </tr>\n",
       "  </thead>\n",
       "  <tbody>\n",
       "    <tr>\n",
       "      <th>477</th>\n",
       "      <td>K+S AG</td>\n",
       "      <td>36.53</td>\n",
       "      <td>-0.40</td>\n",
       "      <td>High</td>\n",
       "    </tr>\n",
       "    <tr>\n",
       "      <th>478</th>\n",
       "      <td>Lundin Petroleum AB</td>\n",
       "      <td>29.05</td>\n",
       "      <td>-0.48</td>\n",
       "      <td>High</td>\n",
       "    </tr>\n",
       "    <tr>\n",
       "      <th>479</th>\n",
       "      <td>UnipolSai SpA</td>\n",
       "      <td>29.79</td>\n",
       "      <td>-0.49</td>\n",
       "      <td>Low</td>\n",
       "    </tr>\n",
       "    <tr>\n",
       "      <th>480</th>\n",
       "      <td>Capital &amp; Counties Properties PLC</td>\n",
       "      <td>17.62</td>\n",
       "      <td>-0.55</td>\n",
       "      <td>Low</td>\n",
       "    </tr>\n",
       "    <tr>\n",
       "      <th>481</th>\n",
       "      <td>TNT Express NV</td>\n",
       "      <td>32.70</td>\n",
       "      <td>-0.77</td>\n",
       "      <td>High</td>\n",
       "    </tr>\n",
       "  </tbody>\n",
       "</table>\n",
       "</div>"
      ],
      "text/plain": [
       "                                  Name   Realised 1yr Vol   CF2Debt Ratio  \\\n",
       "477                             K+S AG              36.53           -0.40   \n",
       "478                Lundin Petroleum AB              29.05           -0.48   \n",
       "479                      UnipolSai SpA              29.79           -0.49   \n",
       "480  Capital & Counties Properties PLC              17.62           -0.55   \n",
       "481                     TNT Express NV              32.70           -0.77   \n",
       "\n",
       "    DefaultRisk  \n",
       "477        High  \n",
       "478        High  \n",
       "479         Low  \n",
       "480         Low  \n",
       "481        High  "
      ]
     },
     "execution_count": 20,
     "metadata": {},
     "output_type": "execute_result"
    }
   ],
   "source": [
    "print('There are ',len(df),' companies in the dataset')\n",
    "print('A sample:')\n",
    "df.tail()"
   ]
  },
  {
   "cell_type": "markdown",
   "metadata": {},
   "source": [
    "Not overly happy with the column names in the csv file, so let's see if we can change them :\n",
    "into ' Volatility ' and 'FCF2Debt '"
   ]
  },
  {
   "cell_type": "code",
   "execution_count": 21,
   "metadata": {},
   "outputs": [],
   "source": [
    "df.columns=['Name', 'Volatility', 'CF2Debt', 'DefaultRisk']"
   ]
  },
  {
   "cell_type": "code",
   "execution_count": 22,
   "metadata": {},
   "outputs": [
    {
     "name": "stdout",
     "output_type": "stream",
     "text": [
      "Default Categories:\n",
      "['Low' 'High']\n"
     ]
    }
   ],
   "source": [
    "print('Default Categories:')\n",
    "print(df['DefaultRisk'].unique())"
   ]
  },
  {
   "cell_type": "markdown",
   "metadata": {},
   "source": [
    "We use the groupby() function of Pandas to have some average position of the companies within the different default categories."
   ]
  },
  {
   "cell_type": "code",
   "execution_count": 23,
   "metadata": {},
   "outputs": [
    {
     "data": {
      "text/plain": [
       "pandas.core.groupby.DataFrameGroupBy"
      ]
     },
     "execution_count": 23,
     "metadata": {},
     "output_type": "execute_result"
    }
   ],
   "source": [
    "dfs=df.groupby('DefaultRisk')\n",
    "type(dfs)\n"
   ]
  },
  {
   "cell_type": "code",
   "execution_count": 24,
   "metadata": {},
   "outputs": [
    {
     "data": {
      "text/html": [
       "<div>\n",
       "<style scoped>\n",
       "    .dataframe tbody tr th:only-of-type {\n",
       "        vertical-align: middle;\n",
       "    }\n",
       "\n",
       "    .dataframe tbody tr th {\n",
       "        vertical-align: top;\n",
       "    }\n",
       "\n",
       "    .dataframe thead th {\n",
       "        text-align: right;\n",
       "    }\n",
       "</style>\n",
       "<table border=\"1\" class=\"dataframe\">\n",
       "  <thead>\n",
       "    <tr style=\"text-align: right;\">\n",
       "      <th></th>\n",
       "      <th>Volatility</th>\n",
       "      <th>CF2Debt</th>\n",
       "    </tr>\n",
       "    <tr>\n",
       "      <th>DefaultRisk</th>\n",
       "      <th></th>\n",
       "      <th></th>\n",
       "    </tr>\n",
       "  </thead>\n",
       "  <tbody>\n",
       "    <tr>\n",
       "      <th>High</th>\n",
       "      <td>30.477500</td>\n",
       "      <td>0.075000</td>\n",
       "    </tr>\n",
       "    <tr>\n",
       "      <th>Low</th>\n",
       "      <td>23.226425</td>\n",
       "      <td>1.435894</td>\n",
       "    </tr>\n",
       "  </tbody>\n",
       "</table>\n",
       "</div>"
      ],
      "text/plain": [
       "             Volatility   CF2Debt\n",
       "DefaultRisk                      \n",
       "High          30.477500  0.075000\n",
       "Low           23.226425  1.435894"
      ]
     },
     "execution_count": 24,
     "metadata": {},
     "output_type": "execute_result"
    }
   ],
   "source": [
    "#The grouped dataframe has the following properties \n",
    "AvgLevels=dfs[['Volatility','CF2Debt']].mean()\n",
    "AvgLevels"
   ]
  },
  {
   "cell_type": "markdown",
   "metadata": {},
   "source": [
    "<b>First Observation:</b><br>High Realized Equity Volatility and Low Free Cashflow is associated with High Default Risk"
   ]
  },
  {
   "cell_type": "code",
   "execution_count": 25,
   "metadata": {},
   "outputs": [
    {
     "name": "stdout",
     "output_type": "stream",
     "text": [
      "<class 'pandas.core.frame.DataFrame'>\n",
      "The average realized equity volatility of Low Default is :  23.23\n",
      "(This result matches what we found when earlier grouping the dataframe)\n"
     ]
    }
   ],
   "source": [
    "#Creating two dataFrames from the original dataframe df\n",
    "df_HDefRisk=df[(df.DefaultRisk == 'High')]\n",
    "df_LDefRisk=df[(df.DefaultRisk == 'Low')]\n",
    "print(type(df_HDefRisk))\n",
    "print((\"The average realized equity volatility of Low Default is : {k: 0.02f}\").format(k=df_LDefRisk['Volatility'].mean()))\n",
    "print(\"(This result matches what we found when earlier grouping the dataframe)\")"
   ]
  },
  {
   "cell_type": "code",
   "execution_count": 27,
   "metadata": {},
   "outputs": [
    {
     "data": {
      "image/png": "[encoded data removed]",
      "text/plain": [
       "<matplotlib.figure.Figure at 0x11ade7be0>"
      ]
     },
     "metadata": {},
     "output_type": "display_data"
    }
   ],
   "source": [
    "plt.figure(figsize=(10,10) )\n",
    "plt.plot(df_HDefRisk.Volatility,df_HDefRisk.CF2Debt,'or',label='High Default Risk')\n",
    "plt.plot(df_LDefRisk.Volatility,df_LDefRisk.CF2Debt,'ob',label='Low Default Risk')\n",
    "plt.legend()\n",
    "plt.xlabel('Volatility (%)')\n",
    "plt.ylabel('CashFlow / Debt');"
   ]
  },
  {
   "cell_type": "markdown",
   "metadata": {},
   "source": [
    "The Multivariate kernel density estimator from the <b>statsmodels </b> package is going to be used. \n",
    "We can find more info on the model using the \"?\" in front of the function"
   ]
  },
  {
   "cell_type": "code",
   "execution_count": 31,
   "metadata": {},
   "outputs": [],
   "source": [
    "KDE_HighDefaultRisk=sm.nonparametric.KDEMultivariate(data=[df_HDefRisk.Volatility,df_HDefRisk.CF2Debt],\n",
    "                                                     var_type='cc')\n",
    "KDE_LowDefaultRisk=sm.nonparametric.KDEMultivariate(data=[df_LDefRisk.Volatility,df_LDefRisk.CF2Debt],\n",
    "                                                    var_type='cc')"
   ]
  },
  {
   "cell_type": "markdown",
   "metadata": {},
   "source": [
    "A company has an equity volatility of 20% and a Cashflow to debt ratio of 1%. Which is the most likely category: High or Low default risk ?<br>"
   ]
  },
  {
   "cell_type": "code",
   "execution_count": 32,
   "metadata": {},
   "outputs": [
    {
     "name": "stdout",
     "output_type": "stream",
     "text": [
      "0.013090641803160831\n",
      "0.000107063991959003\n"
     ]
    }
   ],
   "source": [
    "#low free cashflow is creating high default risk\n",
    "print(KDE_LowDefaultRisk.pdf([20,1]))\n",
    "print(KDE_HighDefaultRisk.pdf([20,1]))"
   ]
  },
  {
   "cell_type": "markdown",
   "metadata": {},
   "source": [
    "What are the different bandwidths ?"
   ]
  },
  {
   "cell_type": "code",
   "execution_count": 33,
   "metadata": {},
   "outputs": [
    {
     "name": "stdout",
     "output_type": "stream",
     "text": [
      "[4.0105288  0.10812561]\n",
      "[1.92194748 2.2855728 ]\n"
     ]
    }
   ],
   "source": [
    "print(KDE_HighDefaultRisk.bw)\n",
    "print(KDE_LowDefaultRisk.bw)"
   ]
  }
 ],
 "metadata": {
  "anaconda-cloud": {},
  "kernelspec": {
   "display_name": "Python [default]",
   "language": "python",
   "name": "python3"
  },
  "language_info": {
   "codemirror_mode": {
    "name": "ipython",
    "version": 3
   },
   "file_extension": ".py",
   "mimetype": "text/x-python",
   "name": "python",
   "nbconvert_exporter": "python",
   "pygments_lexer": "ipython3",
   "version": "3.5.2"
  }
 },
 "nbformat": 4,
 "nbformat_minor": 2
}
